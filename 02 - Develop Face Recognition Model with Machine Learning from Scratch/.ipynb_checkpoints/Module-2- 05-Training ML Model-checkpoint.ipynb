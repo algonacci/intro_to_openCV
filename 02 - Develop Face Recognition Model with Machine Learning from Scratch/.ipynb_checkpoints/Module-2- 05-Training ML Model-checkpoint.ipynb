{
 "cells": [
  {
   "cell_type": "code",
   "execution_count": 37,
   "metadata": {},
   "outputs": [],
   "source": [
    "import warnings\n",
    "warnings.filterwarnings('ignore')\n",
    "import numpy as np\n",
    "import pandas as pd\n",
    "import matplotlib.pyplot as plt\n",
    "from sklearn.decomposition import PCA\n",
    "%matplotlib inline"
   ]
  },
  {
   "cell_type": "code",
   "execution_count": 38,
   "metadata": {},
   "outputs": [
    {
     "data": {
      "text/plain": [
       "['arr_0', 'arr_1', 'arr_2']"
      ]
     },
     "execution_count": 38,
     "metadata": {},
     "output_type": "execute_result"
    }
   ],
   "source": [
    "data = np.load('./data/data_pca_50_y_mean.pickle.npz')\n",
    "data.files"
   ]
  },
  {
   "cell_type": "code",
   "execution_count": 39,
   "metadata": {},
   "outputs": [],
   "source": [
    "X = data['arr_0']\n",
    "y = data['arr_1']\n",
    "mean = data['arr_2']"
   ]
  },
  {
   "cell_type": "code",
   "execution_count": 40,
   "metadata": {},
   "outputs": [
    {
     "data": {
      "text/plain": [
       "((4355, 50), (1089, 50), (4355,), (1089,))"
      ]
     },
     "execution_count": 40,
     "metadata": {},
     "output_type": "execute_result"
    }
   ],
   "source": [
    "from sklearn.model_selection import train_test_split\n",
    "x_train,x_test,y_train,y_test = train_test_split(X,y,test_size=0.2,stratify=y)\n",
    "x_train.shape,x_test.shape,y_train.shape,y_test.shape"
   ]
  },
  {
   "cell_type": "markdown",
   "metadata": {},
   "source": [
    "# Training a Machine Learning Model"
   ]
  },
  {
   "cell_type": "code",
   "execution_count": 41,
   "metadata": {},
   "outputs": [],
   "source": [
    "from sklearn.svm import SVC"
   ]
  },
  {
   "cell_type": "code",
   "execution_count": 42,
   "metadata": {},
   "outputs": [],
   "source": [
    "model = SVC(C=1.0,kernel='rbf',gamma=0.01,probability=True,)"
   ]
  },
  {
   "cell_type": "code",
   "execution_count": 43,
   "metadata": {},
   "outputs": [
    {
     "name": "stdout",
     "output_type": "stream",
     "text": [
      "model trained sucessfully\n"
     ]
    }
   ],
   "source": [
    "model.fit(x_train,y_train)\n",
    "print('model trained sucessfully')"
   ]
  },
  {
   "cell_type": "code",
   "execution_count": 44,
   "metadata": {},
   "outputs": [
    {
     "data": {
      "text/plain": [
       "0.8665901262916188"
      ]
     },
     "execution_count": 44,
     "metadata": {},
     "output_type": "execute_result"
    }
   ],
   "source": [
    "# score\n",
    "model.score(x_train,y_train)"
   ]
  },
  {
   "cell_type": "code",
   "execution_count": 45,
   "metadata": {},
   "outputs": [
    {
     "data": {
      "text/plain": [
       "0.8089990817263545"
      ]
     },
     "execution_count": 45,
     "metadata": {},
     "output_type": "execute_result"
    }
   ],
   "source": [
    "# score\n",
    "model.score(x_test,y_test)"
   ]
  },
  {
   "cell_type": "markdown",
   "metadata": {},
   "source": [
    "# Model Evaluation\n",
    "- Confusion Matrix\n",
    "- Classification Report \n",
    "- Kappa Score\n",
    "- ROC and AUC (probability)"
   ]
  },
  {
   "cell_type": "code",
   "execution_count": 46,
   "metadata": {},
   "outputs": [],
   "source": [
    "from sklearn import metrics"
   ]
  },
  {
   "cell_type": "code",
   "execution_count": 47,
   "metadata": {},
   "outputs": [],
   "source": [
    "y_pred = model.predict(x_test)\n",
    "y_prob = model.predict_proba(x_test) # proability"
   ]
  },
  {
   "cell_type": "code",
   "execution_count": 48,
   "metadata": {},
   "outputs": [
    {
     "data": {
      "image/png": "[encoded data removed]",
      "text/plain": [
       "<Figure size 432x288 with 1 Axes>"
      ]
     },
     "metadata": {
      "needs_background": "light"
     },
     "output_type": "display_data"
    }
   ],
   "source": [
    "cm = metrics.confusion_matrix(y_test,y_pred)\n",
    "cm = np.concatenate((cm,cm.sum(axis=0).reshape(1,-1)),axis=0)\n",
    "cm = np.concatenate((cm,cm.sum(axis=1).reshape(-1,1)),axis=1)\n",
    "plt.imshow(cm)\n",
    "for i in range(3):\n",
    "    for j in range(3):\n",
    "        plt.text(j,i,'%d'%cm[i,j])\n",
    "        \n",
    "plt.xticks([0,1])\n",
    "plt.yticks([0,1])\n",
    "plt.xlabel('Predicted Values')\n",
    "plt.ylabel('True Values')\n",
    "plt.show()"
   ]
  },
  {
   "cell_type": "code",
   "execution_count": 49,
   "metadata": {},
   "outputs": [
    {
     "data": {
      "text/html": [
       "<div>\n",
       "<style scoped>\n",
       "    .dataframe tbody tr th:only-of-type {\n",
       "        vertical-align: middle;\n",
       "    }\n",
       "\n",
       "    .dataframe tbody tr th {\n",
       "        vertical-align: top;\n",
       "    }\n",
       "\n",
       "    .dataframe thead th {\n",
       "        text-align: right;\n",
       "    }\n",
       "</style>\n",
       "<table border=\"1\" class=\"dataframe\">\n",
       "  <thead>\n",
       "    <tr style=\"text-align: right;\">\n",
       "      <th></th>\n",
       "      <th>precision</th>\n",
       "      <th>recall</th>\n",
       "      <th>f1-score</th>\n",
       "      <th>support</th>\n",
       "    </tr>\n",
       "  </thead>\n",
       "  <tbody>\n",
       "    <tr>\n",
       "      <th>male</th>\n",
       "      <td>0.788557</td>\n",
       "      <td>0.720455</td>\n",
       "      <td>0.752969</td>\n",
       "      <td>440.000000</td>\n",
       "    </tr>\n",
       "    <tr>\n",
       "      <th>female</th>\n",
       "      <td>0.820961</td>\n",
       "      <td>0.869029</td>\n",
       "      <td>0.844311</td>\n",
       "      <td>649.000000</td>\n",
       "    </tr>\n",
       "    <tr>\n",
       "      <th>accuracy</th>\n",
       "      <td>0.808999</td>\n",
       "      <td>0.808999</td>\n",
       "      <td>0.808999</td>\n",
       "      <td>0.808999</td>\n",
       "    </tr>\n",
       "    <tr>\n",
       "      <th>macro avg</th>\n",
       "      <td>0.804759</td>\n",
       "      <td>0.794742</td>\n",
       "      <td>0.798640</td>\n",
       "      <td>1089.000000</td>\n",
       "    </tr>\n",
       "    <tr>\n",
       "      <th>weighted avg</th>\n",
       "      <td>0.807868</td>\n",
       "      <td>0.808999</td>\n",
       "      <td>0.807405</td>\n",
       "      <td>1089.000000</td>\n",
       "    </tr>\n",
       "  </tbody>\n",
       "</table>\n",
       "</div>"
      ],
      "text/plain": [
       "              precision    recall  f1-score      support\n",
       "male           0.788557  0.720455  0.752969   440.000000\n",
       "female         0.820961  0.869029  0.844311   649.000000\n",
       "accuracy       0.808999  0.808999  0.808999     0.808999\n",
       "macro avg      0.804759  0.794742  0.798640  1089.000000\n",
       "weighted avg   0.807868  0.808999  0.807405  1089.000000"
      ]
     },
     "execution_count": 49,
     "metadata": {},
     "output_type": "execute_result"
    }
   ],
   "source": [
    "# classification report\n",
    "cr = metrics.classification_report(y_test,y_pred,target_names=['male','female'],output_dict=True)\n",
    "pd.DataFrame(cr).T"
   ]
  },
  {
   "cell_type": "code",
   "execution_count": 50,
   "metadata": {},
   "outputs": [
    {
     "data": {
      "text/plain": [
       "0.5977967889370679"
      ]
     },
     "execution_count": 50,
     "metadata": {},
     "output_type": "execute_result"
    }
   ],
   "source": [
    "# kappa\n",
    "metrics.cohen_kappa_score(y_test,y_pred)"
   ]
  },
  {
   "cell_type": "markdown",
   "metadata": {},
   "source": [
    "# ROC and AUC"
   ]
  },
  {
   "cell_type": "code",
   "execution_count": 51,
   "metadata": {},
   "outputs": [
    {
     "data": {
      "image/png": "[encoded data removed]",
      "text/plain": [
       "<Figure size 720x432 with 1 Axes>"
      ]
     },
     "metadata": {
      "needs_background": "light"
     },
     "output_type": "display_data"
    }
   ],
   "source": [
    "# roc for female\n",
    "fpr,tpr,thresh = metrics.roc_curve(y_test,y_prob[:,1])\n",
    "auc_s = metrics.auc(fpr,tpr)\n",
    "plt.figure(figsize=(10,6))\n",
    "plt.plot(fpr,tpr,'-.')\n",
    "plt.plot([0,1],[0,1],'b--')\n",
    "for i in range(0,len(thresh),20):\n",
    "    plt.plot(fpr[i],tpr[i],'^')\n",
    "    plt.text(fpr[i],tpr[i],\"%0.2f\"%thresh[i])\n",
    "    \n",
    "plt.legend(['AUC Score = %0.2f'%auc_s])\n",
    "\n",
    "plt.xlabel('False Positve Rate')\n",
    "plt.ylabel('True Positive Rate')\n",
    "plt.title('Receiver Operating Characterstics')\n",
    "plt.show()"
   ]
  },
  {
   "cell_type": "markdown",
   "metadata": {},
   "source": [
    "# Hyper Parameter Tuning"
   ]
  },
  {
   "cell_type": "code",
   "execution_count": 52,
   "metadata": {},
   "outputs": [],
   "source": [
    "model_tune = SVC()"
   ]
  },
  {
   "cell_type": "code",
   "execution_count": 53,
   "metadata": {},
   "outputs": [],
   "source": [
    "from sklearn.model_selection import GridSearchCV"
   ]
  },
  {
   "cell_type": "code",
   "execution_count": 54,
   "metadata": {},
   "outputs": [],
   "source": [
    "param_grid = {'C':[1,10,20,30,50,100],\n",
    "             'kernel':['rbf','poly'],\n",
    "             'gamma':[0.1,0.05,0.01,0.001,0.002,0.005],\n",
    "             'coef0':[0,1],\n",
    "             }"
   ]
  },
  {
   "cell_type": "code",
   "execution_count": 55,
   "metadata": {},
   "outputs": [],
   "source": [
    "model_grid = GridSearchCV(model_tune,param_grid=param_grid,scoring='accuracy',cv=5,verbose=2)"
   ]
  },
  {
   "cell_type": "code",
   "execution_count": 20,
   "metadata": {},
   "outputs": [
    {
     "name": "stdout",
     "output_type": "stream",
     "text": [
      "Fitting 5 folds for each of 144 candidates, totalling 720 fits\n",
      "[CV] END ................C=1, coef0=0, gamma=0.1, kernel=rbf; total time=   7.0s\n",
      "[CV] END ................C=1, coef0=0, gamma=0.1, kernel=rbf; total time=   7.3s\n",
      "[CV] END ................C=1, coef0=0, gamma=0.1, kernel=rbf; total time=   5.1s\n",
      "[CV] END ................C=1, coef0=0, gamma=0.1, kernel=rbf; total time=   5.1s\n",
      "[CV] END ................C=1, coef0=0, gamma=0.1, kernel=rbf; total time=   5.7s\n",
      "[CV] END ...............C=1, coef0=0, gamma=0.1, kernel=poly; total time=   3.7s\n",
      "[CV] END ...............C=1, coef0=0, gamma=0.1, kernel=poly; total time=   3.5s\n",
      "[CV] END ...............C=1, coef0=0, gamma=0.1, kernel=poly; total time=   4.9s\n",
      "[CV] END ...............C=1, coef0=0, gamma=0.1, kernel=poly; total time=   8.0s\n",
      "[CV] END ...............C=1, coef0=0, gamma=0.1, kernel=poly; total time=   6.1s\n",
      "[CV] END ...............C=1, coef0=0, gamma=0.05, kernel=rbf; total time=   6.0s\n",
      "[CV] END ...............C=1, coef0=0, gamma=0.05, kernel=rbf; total time=   6.0s\n",
      "[CV] END ...............C=1, coef0=0, gamma=0.05, kernel=rbf; total time=   6.5s\n",
      "[CV] END ...............C=1, coef0=0, gamma=0.05, kernel=rbf; total time=   6.1s\n",
      "[CV] END ...............C=1, coef0=0, gamma=0.05, kernel=rbf; total time=   7.1s\n",
      "[CV] END ..............C=1, coef0=0, gamma=0.05, kernel=poly; total time=   4.5s\n",
      "[CV] END ..............C=1, coef0=0, gamma=0.05, kernel=poly; total time=   3.8s\n",
      "[CV] END ..............C=1, coef0=0, gamma=0.05, kernel=poly; total time=   4.6s\n",
      "[CV] END ..............C=1, coef0=0, gamma=0.05, kernel=poly; total time=   3.2s\n",
      "[CV] END ..............C=1, coef0=0, gamma=0.05, kernel=poly; total time=   4.2s\n",
      "[CV] END ...............C=1, coef0=0, gamma=0.01, kernel=rbf; total time=   4.9s\n",
      "[CV] END ...............C=1, coef0=0, gamma=0.01, kernel=rbf; total time=   3.6s\n",
      "[CV] END ...............C=1, coef0=0, gamma=0.01, kernel=rbf; total time=   3.6s\n",
      "[CV] END ...............C=1, coef0=0, gamma=0.01, kernel=rbf; total time=   3.7s\n",
      "[CV] END ...............C=1, coef0=0, gamma=0.01, kernel=rbf; total time=   3.7s\n",
      "[CV] END ..............C=1, coef0=0, gamma=0.01, kernel=poly; total time=   3.5s\n",
      "[CV] END ..............C=1, coef0=0, gamma=0.01, kernel=poly; total time=   3.5s\n",
      "[CV] END ..............C=1, coef0=0, gamma=0.01, kernel=poly; total time=   3.6s\n",
      "[CV] END ..............C=1, coef0=0, gamma=0.01, kernel=poly; total time=   3.6s\n",
      "[CV] END ..............C=1, coef0=0, gamma=0.01, kernel=poly; total time=   4.0s\n",
      "[CV] END ..............C=1, coef0=0, gamma=0.001, kernel=rbf; total time=   4.0s\n",
      "[CV] END ..............C=1, coef0=0, gamma=0.001, kernel=rbf; total time=   4.0s\n",
      "[CV] END ..............C=1, coef0=0, gamma=0.001, kernel=rbf; total time=   3.9s\n",
      "[CV] END ..............C=1, coef0=0, gamma=0.001, kernel=rbf; total time=   4.0s\n",
      "[CV] END ..............C=1, coef0=0, gamma=0.001, kernel=rbf; total time=   3.9s\n",
      "[CV] END .............C=1, coef0=0, gamma=0.001, kernel=poly; total time=   2.8s\n",
      "[CV] END .............C=1, coef0=0, gamma=0.001, kernel=poly; total time=   3.0s\n",
      "[CV] END .............C=1, coef0=0, gamma=0.001, kernel=poly; total time=   2.8s\n",
      "[CV] END .............C=1, coef0=0, gamma=0.001, kernel=poly; total time=   2.7s\n",
      "[CV] END .............C=1, coef0=0, gamma=0.001, kernel=poly; total time=   2.7s\n",
      "[CV] END ..............C=1, coef0=0, gamma=0.002, kernel=rbf; total time=   4.1s\n",
      "[CV] END ..............C=1, coef0=0, gamma=0.002, kernel=rbf; total time=   3.9s\n",
      "[CV] END ..............C=1, coef0=0, gamma=0.002, kernel=rbf; total time=   4.5s\n",
      "[CV] END ..............C=1, coef0=0, gamma=0.002, kernel=rbf; total time=   4.3s\n",
      "[CV] END ..............C=1, coef0=0, gamma=0.002, kernel=rbf; total time=   4.3s\n",
      "[CV] END .............C=1, coef0=0, gamma=0.002, kernel=poly; total time=   3.8s\n",
      "[CV] END .............C=1, coef0=0, gamma=0.002, kernel=poly; total time=   3.5s\n",
      "[CV] END .............C=1, coef0=0, gamma=0.002, kernel=poly; total time=   4.0s\n",
      "[CV] END .............C=1, coef0=0, gamma=0.002, kernel=poly; total time=   3.6s\n",
      "[CV] END .............C=1, coef0=0, gamma=0.002, kernel=poly; total time=   3.5s\n",
      "[CV] END ..............C=1, coef0=0, gamma=0.005, kernel=rbf; total time=   3.6s\n",
      "[CV] END ..............C=1, coef0=0, gamma=0.005, kernel=rbf; total time=   3.5s\n",
      "[CV] END ..............C=1, coef0=0, gamma=0.005, kernel=rbf; total time=   3.7s\n",
      "[CV] END ..............C=1, coef0=0, gamma=0.005, kernel=rbf; total time=   3.6s\n",
      "[CV] END ..............C=1, coef0=0, gamma=0.005, kernel=rbf; total time=   3.6s\n",
      "[CV] END .............C=1, coef0=0, gamma=0.005, kernel=poly; total time=   3.6s\n",
      "[CV] END .............C=1, coef0=0, gamma=0.005, kernel=poly; total time=   3.8s\n",
      "[CV] END .............C=1, coef0=0, gamma=0.005, kernel=poly; total time=   3.6s\n",
      "[CV] END .............C=1, coef0=0, gamma=0.005, kernel=poly; total time=   3.5s\n",
      "[CV] END .............C=1, coef0=0, gamma=0.005, kernel=poly; total time=   3.9s\n",
      "[CV] END ................C=1, coef0=1, gamma=0.1, kernel=rbf; total time=   5.4s\n",
      "[CV] END ................C=1, coef0=1, gamma=0.1, kernel=rbf; total time=   5.3s\n",
      "[CV] END ................C=1, coef0=1, gamma=0.1, kernel=rbf; total time=   5.4s\n",
      "[CV] END ................C=1, coef0=1, gamma=0.1, kernel=rbf; total time=   5.2s\n",
      "[CV] END ................C=1, coef0=1, gamma=0.1, kernel=rbf; total time=   5.2s\n",
      "[CV] END ...............C=1, coef0=1, gamma=0.1, kernel=poly; total time=   3.0s\n",
      "[CV] END ...............C=1, coef0=1, gamma=0.1, kernel=poly; total time=   3.2s\n",
      "[CV] END ...............C=1, coef0=1, gamma=0.1, kernel=poly; total time=   2.9s\n",
      "[CV] END ...............C=1, coef0=1, gamma=0.1, kernel=poly; total time=   3.0s\n",
      "[CV] END ...............C=1, coef0=1, gamma=0.1, kernel=poly; total time=   3.8s\n",
      "[CV] END ...............C=1, coef0=1, gamma=0.05, kernel=rbf; total time=   5.8s\n",
      "[CV] END ...............C=1, coef0=1, gamma=0.05, kernel=rbf; total time=   4.9s\n",
      "[CV] END ...............C=1, coef0=1, gamma=0.05, kernel=rbf; total time=   5.0s\n",
      "[CV] END ...............C=1, coef0=1, gamma=0.05, kernel=rbf; total time=   5.1s\n",
      "[CV] END ...............C=1, coef0=1, gamma=0.05, kernel=rbf; total time=   4.8s\n",
      "[CV] END ..............C=1, coef0=1, gamma=0.05, kernel=poly; total time=   1.3s\n",
      "[CV] END ..............C=1, coef0=1, gamma=0.05, kernel=poly; total time=   1.3s\n",
      "[CV] END ..............C=1, coef0=1, gamma=0.05, kernel=poly; total time=   1.3s\n",
      "[CV] END ..............C=1, coef0=1, gamma=0.05, kernel=poly; total time=   1.1s\n",
      "[CV] END ..............C=1, coef0=1, gamma=0.05, kernel=poly; total time=   1.1s\n",
      "[CV] END ...............C=1, coef0=1, gamma=0.01, kernel=rbf; total time=   2.9s\n",
      "[CV] END ...............C=1, coef0=1, gamma=0.01, kernel=rbf; total time=   4.5s\n",
      "[CV] END ...............C=1, coef0=1, gamma=0.01, kernel=rbf; total time=   3.8s\n",
      "[CV] END ...............C=1, coef0=1, gamma=0.01, kernel=rbf; total time=   4.5s\n",
      "[CV] END ...............C=1, coef0=1, gamma=0.01, kernel=rbf; total time=   4.6s\n",
      "[CV] END ..............C=1, coef0=1, gamma=0.01, kernel=poly; total time=   2.7s\n",
      "[CV] END ..............C=1, coef0=1, gamma=0.01, kernel=poly; total time=   2.5s\n",
      "[CV] END ..............C=1, coef0=1, gamma=0.01, kernel=poly; total time=   2.5s\n",
      "[CV] END ..............C=1, coef0=1, gamma=0.01, kernel=poly; total time=   2.9s\n",
      "[CV] END ..............C=1, coef0=1, gamma=0.01, kernel=poly; total time=   2.6s\n",
      "[CV] END ..............C=1, coef0=1, gamma=0.001, kernel=rbf; total time=   4.0s\n",
      "[CV] END ..............C=1, coef0=1, gamma=0.001, kernel=rbf; total time=   4.4s\n",
      "[CV] END ..............C=1, coef0=1, gamma=0.001, kernel=rbf; total time=   3.8s\n",
      "[CV] END ..............C=1, coef0=1, gamma=0.001, kernel=rbf; total time=   3.7s\n",
      "[CV] END ..............C=1, coef0=1, gamma=0.001, kernel=rbf; total time=   3.7s\n",
      "[CV] END .............C=1, coef0=1, gamma=0.001, kernel=poly; total time=   2.4s\n",
      "[CV] END .............C=1, coef0=1, gamma=0.001, kernel=poly; total time=   2.3s\n",
      "[CV] END .............C=1, coef0=1, gamma=0.001, kernel=poly; total time=   2.3s\n",
      "[CV] END .............C=1, coef0=1, gamma=0.001, kernel=poly; total time=   2.4s\n",
      "[CV] END .............C=1, coef0=1, gamma=0.001, kernel=poly; total time=   2.4s\n",
      "[CV] END ..............C=1, coef0=1, gamma=0.002, kernel=rbf; total time=   3.6s\n"
     ]
    },
    {
     "name": "stdout",
     "output_type": "stream",
     "text": [
      "[CV] END ..............C=1, coef0=1, gamma=0.002, kernel=rbf; total time=   3.5s\n",
      "[CV] END ..............C=1, coef0=1, gamma=0.002, kernel=rbf; total time=   3.6s\n",
      "[CV] END ..............C=1, coef0=1, gamma=0.002, kernel=rbf; total time=   3.5s\n",
      "[CV] END ..............C=1, coef0=1, gamma=0.002, kernel=rbf; total time=   3.8s\n",
      "[CV] END .............C=1, coef0=1, gamma=0.002, kernel=poly; total time=   3.1s\n",
      "[CV] END .............C=1, coef0=1, gamma=0.002, kernel=poly; total time=   2.6s\n",
      "[CV] END .............C=1, coef0=1, gamma=0.002, kernel=poly; total time=   2.3s\n",
      "[CV] END .............C=1, coef0=1, gamma=0.002, kernel=poly; total time=   2.3s\n",
      "[CV] END .............C=1, coef0=1, gamma=0.002, kernel=poly; total time=   2.9s\n",
      "[CV] END ..............C=1, coef0=1, gamma=0.005, kernel=rbf; total time=   3.8s\n",
      "[CV] END ..............C=1, coef0=1, gamma=0.005, kernel=rbf; total time=   3.6s\n",
      "[CV] END ..............C=1, coef0=1, gamma=0.005, kernel=rbf; total time=   3.5s\n",
      "[CV] END ..............C=1, coef0=1, gamma=0.005, kernel=rbf; total time=   3.4s\n",
      "[CV] END ..............C=1, coef0=1, gamma=0.005, kernel=rbf; total time=   3.4s\n",
      "[CV] END .............C=1, coef0=1, gamma=0.005, kernel=poly; total time=   2.7s\n",
      "[CV] END .............C=1, coef0=1, gamma=0.005, kernel=poly; total time=   2.2s\n",
      "[CV] END .............C=1, coef0=1, gamma=0.005, kernel=poly; total time=   2.3s\n",
      "[CV] END .............C=1, coef0=1, gamma=0.005, kernel=poly; total time=   2.2s\n",
      "[CV] END .............C=1, coef0=1, gamma=0.005, kernel=poly; total time=   2.3s\n",
      "[CV] END ...............C=10, coef0=0, gamma=0.1, kernel=rbf; total time=   4.5s\n",
      "[CV] END ...............C=10, coef0=0, gamma=0.1, kernel=rbf; total time=   4.4s\n",
      "[CV] END ...............C=10, coef0=0, gamma=0.1, kernel=rbf; total time=   4.6s\n",
      "[CV] END ...............C=10, coef0=0, gamma=0.1, kernel=rbf; total time=   4.4s\n",
      "[CV] END ...............C=10, coef0=0, gamma=0.1, kernel=rbf; total time=   4.6s\n",
      "[CV] END ..............C=10, coef0=0, gamma=0.1, kernel=poly; total time=   4.4s\n",
      "[CV] END ..............C=10, coef0=0, gamma=0.1, kernel=poly; total time=   4.5s\n",
      "[CV] END ..............C=10, coef0=0, gamma=0.1, kernel=poly; total time=   4.4s\n",
      "[CV] END ..............C=10, coef0=0, gamma=0.1, kernel=poly; total time=   4.6s\n",
      "[CV] END ..............C=10, coef0=0, gamma=0.1, kernel=poly; total time=   4.7s\n",
      "[CV] END ..............C=10, coef0=0, gamma=0.05, kernel=rbf; total time=   5.6s\n",
      "[CV] END ..............C=10, coef0=0, gamma=0.05, kernel=rbf; total time=   6.0s\n",
      "[CV] END ..............C=10, coef0=0, gamma=0.05, kernel=rbf; total time=   5.3s\n",
      "[CV] END ..............C=10, coef0=0, gamma=0.05, kernel=rbf; total time=   5.4s\n",
      "[CV] END ..............C=10, coef0=0, gamma=0.05, kernel=rbf; total time=   6.8s\n",
      "[CV] END .............C=10, coef0=0, gamma=0.05, kernel=poly; total time=   4.2s\n",
      "[CV] END .............C=10, coef0=0, gamma=0.05, kernel=poly; total time=   4.0s\n",
      "[CV] END .............C=10, coef0=0, gamma=0.05, kernel=poly; total time=   4.0s\n",
      "[CV] END .............C=10, coef0=0, gamma=0.05, kernel=poly; total time=   3.1s\n",
      "[CV] END .............C=10, coef0=0, gamma=0.05, kernel=poly; total time=  10.3s\n",
      "[CV] END ..............C=10, coef0=0, gamma=0.01, kernel=rbf; total time=   9.7s\n",
      "[CV] END ..............C=10, coef0=0, gamma=0.01, kernel=rbf; total time=   9.1s\n",
      "[CV] END ..............C=10, coef0=0, gamma=0.01, kernel=rbf; total time=   4.2s\n",
      "[CV] END ..............C=10, coef0=0, gamma=0.01, kernel=rbf; total time=   6.2s\n",
      "[CV] END ..............C=10, coef0=0, gamma=0.01, kernel=rbf; total time=   2.4s\n",
      "[CV] END .............C=10, coef0=0, gamma=0.01, kernel=poly; total time=   2.0s\n",
      "[CV] END .............C=10, coef0=0, gamma=0.01, kernel=poly; total time=   1.7s\n",
      "[CV] END .............C=10, coef0=0, gamma=0.01, kernel=poly; total time=   1.6s\n",
      "[CV] END .............C=10, coef0=0, gamma=0.01, kernel=poly; total time=   1.7s\n",
      "[CV] END .............C=10, coef0=0, gamma=0.01, kernel=poly; total time=   1.5s\n",
      "[CV] END .............C=10, coef0=0, gamma=0.001, kernel=rbf; total time=   1.6s\n",
      "[CV] END .............C=10, coef0=0, gamma=0.001, kernel=rbf; total time=   1.5s\n",
      "[CV] END .............C=10, coef0=0, gamma=0.001, kernel=rbf; total time=   1.6s\n",
      "[CV] END .............C=10, coef0=0, gamma=0.001, kernel=rbf; total time=   1.5s\n",
      "[CV] END .............C=10, coef0=0, gamma=0.001, kernel=rbf; total time=   1.5s\n",
      "[CV] END ............C=10, coef0=0, gamma=0.001, kernel=poly; total time=   1.5s\n",
      "[CV] END ............C=10, coef0=0, gamma=0.001, kernel=poly; total time=   1.5s\n",
      "[CV] END ............C=10, coef0=0, gamma=0.001, kernel=poly; total time=   1.6s\n",
      "[CV] END ............C=10, coef0=0, gamma=0.001, kernel=poly; total time=   1.5s\n",
      "[CV] END ............C=10, coef0=0, gamma=0.001, kernel=poly; total time=   1.6s\n",
      "[CV] END .............C=10, coef0=0, gamma=0.002, kernel=rbf; total time=   1.7s\n",
      "[CV] END .............C=10, coef0=0, gamma=0.002, kernel=rbf; total time=   1.7s\n",
      "[CV] END .............C=10, coef0=0, gamma=0.002, kernel=rbf; total time=   1.7s\n",
      "[CV] END .............C=10, coef0=0, gamma=0.002, kernel=rbf; total time=   1.7s\n",
      "[CV] END .............C=10, coef0=0, gamma=0.002, kernel=rbf; total time=   1.8s\n",
      "[CV] END ............C=10, coef0=0, gamma=0.002, kernel=poly; total time=   1.6s\n",
      "[CV] END ............C=10, coef0=0, gamma=0.002, kernel=poly; total time=   1.8s\n",
      "[CV] END ............C=10, coef0=0, gamma=0.002, kernel=poly; total time=   1.8s\n",
      "[CV] END ............C=10, coef0=0, gamma=0.002, kernel=poly; total time=   1.7s\n",
      "[CV] END ............C=10, coef0=0, gamma=0.002, kernel=poly; total time=   1.6s\n",
      "[CV] END .............C=10, coef0=0, gamma=0.005, kernel=rbf; total time=   2.0s\n",
      "[CV] END .............C=10, coef0=0, gamma=0.005, kernel=rbf; total time=   1.9s\n",
      "[CV] END .............C=10, coef0=0, gamma=0.005, kernel=rbf; total time=   2.0s\n",
      "[CV] END .............C=10, coef0=0, gamma=0.005, kernel=rbf; total time=   1.9s\n",
      "[CV] END .............C=10, coef0=0, gamma=0.005, kernel=rbf; total time=   1.9s\n",
      "[CV] END ............C=10, coef0=0, gamma=0.005, kernel=poly; total time=   1.8s\n",
      "[CV] END ............C=10, coef0=0, gamma=0.005, kernel=poly; total time=   1.6s\n",
      "[CV] END ............C=10, coef0=0, gamma=0.005, kernel=poly; total time=   2.0s\n",
      "[CV] END ............C=10, coef0=0, gamma=0.005, kernel=poly; total time=   1.8s\n",
      "[CV] END ............C=10, coef0=0, gamma=0.005, kernel=poly; total time=   1.8s\n",
      "[CV] END ...............C=10, coef0=1, gamma=0.1, kernel=rbf; total time=   2.5s\n",
      "[CV] END ...............C=10, coef0=1, gamma=0.1, kernel=rbf; total time=   2.6s\n",
      "[CV] END ...............C=10, coef0=1, gamma=0.1, kernel=rbf; total time=   2.5s\n",
      "[CV] END ...............C=10, coef0=1, gamma=0.1, kernel=rbf; total time=   2.2s\n",
      "[CV] END ...............C=10, coef0=1, gamma=0.1, kernel=rbf; total time=   2.4s\n",
      "[CV] END ..............C=10, coef0=1, gamma=0.1, kernel=poly; total time=   1.4s\n",
      "[CV] END ..............C=10, coef0=1, gamma=0.1, kernel=poly; total time=   1.4s\n",
      "[CV] END ..............C=10, coef0=1, gamma=0.1, kernel=poly; total time=   1.5s\n",
      "[CV] END ..............C=10, coef0=1, gamma=0.1, kernel=poly; total time=   1.3s\n",
      "[CV] END ..............C=10, coef0=1, gamma=0.1, kernel=poly; total time=   1.5s\n",
      "[CV] END ..............C=10, coef0=1, gamma=0.05, kernel=rbf; total time=   2.5s\n",
      "[CV] END ..............C=10, coef0=1, gamma=0.05, kernel=rbf; total time=   2.4s\n",
      "[CV] END ..............C=10, coef0=1, gamma=0.05, kernel=rbf; total time=   3.8s\n",
      "[CV] END ..............C=10, coef0=1, gamma=0.05, kernel=rbf; total time=   2.8s\n",
      "[CV] END ..............C=10, coef0=1, gamma=0.05, kernel=rbf; total time=   2.3s\n",
      "[CV] END .............C=10, coef0=1, gamma=0.05, kernel=poly; total time=   1.5s\n",
      "[CV] END .............C=10, coef0=1, gamma=0.05, kernel=poly; total time=   1.1s\n",
      "[CV] END .............C=10, coef0=1, gamma=0.05, kernel=poly; total time=   1.3s\n",
      "[CV] END .............C=10, coef0=1, gamma=0.05, kernel=poly; total time=   1.5s\n",
      "[CV] END .............C=10, coef0=1, gamma=0.05, kernel=poly; total time=   1.7s\n",
      "[CV] END ..............C=10, coef0=1, gamma=0.01, kernel=rbf; total time=   2.3s\n",
      "[CV] END ..............C=10, coef0=1, gamma=0.01, kernel=rbf; total time=   3.5s\n",
      "[CV] END ..............C=10, coef0=1, gamma=0.01, kernel=rbf; total time=   1.9s\n"
     ]
    },
    {
     "name": "stdout",
     "output_type": "stream",
     "text": [
      "[CV] END ..............C=10, coef0=1, gamma=0.01, kernel=rbf; total time=   2.0s\n",
      "[CV] END ..............C=10, coef0=1, gamma=0.01, kernel=rbf; total time=   2.3s\n",
      "[CV] END .............C=10, coef0=1, gamma=0.01, kernel=poly; total time=   1.8s\n",
      "[CV] END .............C=10, coef0=1, gamma=0.01, kernel=poly; total time=   1.8s\n",
      "[CV] END .............C=10, coef0=1, gamma=0.01, kernel=poly; total time=   2.2s\n",
      "[CV] END .............C=10, coef0=1, gamma=0.01, kernel=poly; total time=   2.1s\n",
      "[CV] END .............C=10, coef0=1, gamma=0.01, kernel=poly; total time=   2.1s\n",
      "[CV] END .............C=10, coef0=1, gamma=0.001, kernel=rbf; total time=   1.9s\n",
      "[CV] END .............C=10, coef0=1, gamma=0.001, kernel=rbf; total time=   1.6s\n",
      "[CV] END .............C=10, coef0=1, gamma=0.001, kernel=rbf; total time=   1.9s\n",
      "[CV] END .............C=10, coef0=1, gamma=0.001, kernel=rbf; total time=   1.6s\n",
      "[CV] END .............C=10, coef0=1, gamma=0.001, kernel=rbf; total time=   1.6s\n",
      "[CV] END ............C=10, coef0=1, gamma=0.001, kernel=poly; total time=   1.2s\n",
      "[CV] END ............C=10, coef0=1, gamma=0.001, kernel=poly; total time=   1.2s\n",
      "[CV] END ............C=10, coef0=1, gamma=0.001, kernel=poly; total time=   1.2s\n",
      "[CV] END ............C=10, coef0=1, gamma=0.001, kernel=poly; total time=   1.2s\n",
      "[CV] END ............C=10, coef0=1, gamma=0.001, kernel=poly; total time=   1.3s\n",
      "[CV] END .............C=10, coef0=1, gamma=0.002, kernel=rbf; total time=   1.9s\n",
      "[CV] END .............C=10, coef0=1, gamma=0.002, kernel=rbf; total time=   1.7s\n",
      "[CV] END .............C=10, coef0=1, gamma=0.002, kernel=rbf; total time=   1.7s\n",
      "[CV] END .............C=10, coef0=1, gamma=0.002, kernel=rbf; total time=   2.1s\n",
      "[CV] END .............C=10, coef0=1, gamma=0.002, kernel=rbf; total time=   3.1s\n",
      "[CV] END ............C=10, coef0=1, gamma=0.002, kernel=poly; total time=   2.2s\n",
      "[CV] END ............C=10, coef0=1, gamma=0.002, kernel=poly; total time=   1.5s\n",
      "[CV] END ............C=10, coef0=1, gamma=0.002, kernel=poly; total time=   1.4s\n",
      "[CV] END ............C=10, coef0=1, gamma=0.002, kernel=poly; total time=   1.4s\n",
      "[CV] END ............C=10, coef0=1, gamma=0.002, kernel=poly; total time=   1.4s\n",
      "[CV] END .............C=10, coef0=1, gamma=0.005, kernel=rbf; total time=   1.9s\n",
      "[CV] END .............C=10, coef0=1, gamma=0.005, kernel=rbf; total time=   1.9s\n",
      "[CV] END .............C=10, coef0=1, gamma=0.005, kernel=rbf; total time=   1.9s\n",
      "[CV] END .............C=10, coef0=1, gamma=0.005, kernel=rbf; total time=   2.0s\n",
      "[CV] END .............C=10, coef0=1, gamma=0.005, kernel=rbf; total time=   2.0s\n",
      "[CV] END ............C=10, coef0=1, gamma=0.005, kernel=poly; total time=   1.7s\n",
      "[CV] END ............C=10, coef0=1, gamma=0.005, kernel=poly; total time=   1.6s\n",
      "[CV] END ............C=10, coef0=1, gamma=0.005, kernel=poly; total time=   1.7s\n",
      "[CV] END ............C=10, coef0=1, gamma=0.005, kernel=poly; total time=   1.5s\n",
      "[CV] END ............C=10, coef0=1, gamma=0.005, kernel=poly; total time=   1.8s\n",
      "[CV] END ...............C=20, coef0=0, gamma=0.1, kernel=rbf; total time=   2.9s\n",
      "[CV] END ...............C=20, coef0=0, gamma=0.1, kernel=rbf; total time=   2.3s\n",
      "[CV] END ...............C=20, coef0=0, gamma=0.1, kernel=rbf; total time=   2.5s\n",
      "[CV] END ...............C=20, coef0=0, gamma=0.1, kernel=rbf; total time=   2.3s\n",
      "[CV] END ...............C=20, coef0=0, gamma=0.1, kernel=rbf; total time=   2.2s\n",
      "[CV] END ..............C=20, coef0=0, gamma=0.1, kernel=poly; total time=   1.8s\n",
      "[CV] END ..............C=20, coef0=0, gamma=0.1, kernel=poly; total time=   2.0s\n",
      "[CV] END ..............C=20, coef0=0, gamma=0.1, kernel=poly; total time=   1.9s\n",
      "[CV] END ..............C=20, coef0=0, gamma=0.1, kernel=poly; total time=   1.8s\n",
      "[CV] END ..............C=20, coef0=0, gamma=0.1, kernel=poly; total time=   2.0s\n",
      "[CV] END ..............C=20, coef0=0, gamma=0.05, kernel=rbf; total time=   2.3s\n",
      "[CV] END ..............C=20, coef0=0, gamma=0.05, kernel=rbf; total time=   2.2s\n",
      "[CV] END ..............C=20, coef0=0, gamma=0.05, kernel=rbf; total time=   2.2s\n",
      "[CV] END ..............C=20, coef0=0, gamma=0.05, kernel=rbf; total time=   2.2s\n",
      "[CV] END ..............C=20, coef0=0, gamma=0.05, kernel=rbf; total time=   2.3s\n",
      "[CV] END .............C=20, coef0=0, gamma=0.05, kernel=poly; total time=   1.8s\n",
      "[CV] END .............C=20, coef0=0, gamma=0.05, kernel=poly; total time=   1.9s\n",
      "[CV] END .............C=20, coef0=0, gamma=0.05, kernel=poly; total time=   1.8s\n",
      "[CV] END .............C=20, coef0=0, gamma=0.05, kernel=poly; total time=   1.8s\n",
      "[CV] END .............C=20, coef0=0, gamma=0.05, kernel=poly; total time=   2.0s\n",
      "[CV] END ..............C=20, coef0=0, gamma=0.01, kernel=rbf; total time=   2.2s\n",
      "[CV] END ..............C=20, coef0=0, gamma=0.01, kernel=rbf; total time=   2.1s\n",
      "[CV] END ..............C=20, coef0=0, gamma=0.01, kernel=rbf; total time=   2.2s\n",
      "[CV] END ..............C=20, coef0=0, gamma=0.01, kernel=rbf; total time=   2.1s\n",
      "[CV] END ..............C=20, coef0=0, gamma=0.01, kernel=rbf; total time=   2.5s\n",
      "[CV] END .............C=20, coef0=0, gamma=0.01, kernel=poly; total time=   1.8s\n",
      "[CV] END .............C=20, coef0=0, gamma=0.01, kernel=poly; total time=   1.7s\n",
      "[CV] END .............C=20, coef0=0, gamma=0.01, kernel=poly; total time=   1.8s\n",
      "[CV] END .............C=20, coef0=0, gamma=0.01, kernel=poly; total time=   1.5s\n",
      "[CV] END .............C=20, coef0=0, gamma=0.01, kernel=poly; total time=   2.0s\n",
      "[CV] END .............C=20, coef0=0, gamma=0.001, kernel=rbf; total time=   2.3s\n",
      "[CV] END .............C=20, coef0=0, gamma=0.001, kernel=rbf; total time=   2.7s\n",
      "[CV] END .............C=20, coef0=0, gamma=0.001, kernel=rbf; total time=   1.9s\n",
      "[CV] END .............C=20, coef0=0, gamma=0.001, kernel=rbf; total time=   2.1s\n",
      "[CV] END .............C=20, coef0=0, gamma=0.001, kernel=rbf; total time=   2.7s\n",
      "[CV] END ............C=20, coef0=0, gamma=0.001, kernel=poly; total time=   1.7s\n",
      "[CV] END ............C=20, coef0=0, gamma=0.001, kernel=poly; total time=   2.1s\n",
      "[CV] END ............C=20, coef0=0, gamma=0.001, kernel=poly; total time=   1.9s\n",
      "[CV] END ............C=20, coef0=0, gamma=0.001, kernel=poly; total time=   2.1s\n",
      "[CV] END ............C=20, coef0=0, gamma=0.001, kernel=poly; total time=   1.8s\n",
      "[CV] END .............C=20, coef0=0, gamma=0.002, kernel=rbf; total time=   2.1s\n",
      "[CV] END .............C=20, coef0=0, gamma=0.002, kernel=rbf; total time=   2.4s\n",
      "[CV] END .............C=20, coef0=0, gamma=0.002, kernel=rbf; total time=   2.2s\n",
      "[CV] END .............C=20, coef0=0, gamma=0.002, kernel=rbf; total time=   2.6s\n",
      "[CV] END .............C=20, coef0=0, gamma=0.002, kernel=rbf; total time=   2.5s\n",
      "[CV] END ............C=20, coef0=0, gamma=0.002, kernel=poly; total time=   1.6s\n",
      "[CV] END ............C=20, coef0=0, gamma=0.002, kernel=poly; total time=   1.5s\n",
      "[CV] END ............C=20, coef0=0, gamma=0.002, kernel=poly; total time=   1.9s\n",
      "[CV] END ............C=20, coef0=0, gamma=0.002, kernel=poly; total time=   1.9s\n",
      "[CV] END ............C=20, coef0=0, gamma=0.002, kernel=poly; total time=   1.7s\n",
      "[CV] END .............C=20, coef0=0, gamma=0.005, kernel=rbf; total time=   2.1s\n",
      "[CV] END .............C=20, coef0=0, gamma=0.005, kernel=rbf; total time=   2.1s\n",
      "[CV] END .............C=20, coef0=0, gamma=0.005, kernel=rbf; total time=   2.0s\n",
      "[CV] END .............C=20, coef0=0, gamma=0.005, kernel=rbf; total time=   2.3s\n",
      "[CV] END .............C=20, coef0=0, gamma=0.005, kernel=rbf; total time=   2.2s\n",
      "[CV] END ............C=20, coef0=0, gamma=0.005, kernel=poly; total time=   1.8s\n",
      "[CV] END ............C=20, coef0=0, gamma=0.005, kernel=poly; total time=   1.8s\n",
      "[CV] END ............C=20, coef0=0, gamma=0.005, kernel=poly; total time=   1.7s\n",
      "[CV] END ............C=20, coef0=0, gamma=0.005, kernel=poly; total time=   1.7s\n",
      "[CV] END ............C=20, coef0=0, gamma=0.005, kernel=poly; total time=   1.9s\n",
      "[CV] END ...............C=20, coef0=1, gamma=0.1, kernel=rbf; total time=   2.6s\n",
      "[CV] END ...............C=20, coef0=1, gamma=0.1, kernel=rbf; total time=   3.1s\n",
      "[CV] END ...............C=20, coef0=1, gamma=0.1, kernel=rbf; total time=   2.4s\n",
      "[CV] END ...............C=20, coef0=1, gamma=0.1, kernel=rbf; total time=   3.1s\n",
      "[CV] END ...............C=20, coef0=1, gamma=0.1, kernel=rbf; total time=   3.0s\n"
     ]
    },
    {
     "name": "stdout",
     "output_type": "stream",
     "text": [
      "[CV] END ..............C=20, coef0=1, gamma=0.1, kernel=poly; total time=   2.1s\n",
      "[CV] END ..............C=20, coef0=1, gamma=0.1, kernel=poly; total time=   1.5s\n",
      "[CV] END ..............C=20, coef0=1, gamma=0.1, kernel=poly; total time=   1.6s\n",
      "[CV] END ..............C=20, coef0=1, gamma=0.1, kernel=poly; total time=   1.4s\n",
      "[CV] END ..............C=20, coef0=1, gamma=0.1, kernel=poly; total time=   1.6s\n",
      "[CV] END ..............C=20, coef0=1, gamma=0.05, kernel=rbf; total time=   2.7s\n",
      "[CV] END ..............C=20, coef0=1, gamma=0.05, kernel=rbf; total time=   2.6s\n",
      "[CV] END ..............C=20, coef0=1, gamma=0.05, kernel=rbf; total time=   2.5s\n",
      "[CV] END ..............C=20, coef0=1, gamma=0.05, kernel=rbf; total time=   3.0s\n",
      "[CV] END ..............C=20, coef0=1, gamma=0.05, kernel=rbf; total time=   2.6s\n",
      "[CV] END .............C=20, coef0=1, gamma=0.05, kernel=poly; total time=   1.4s\n",
      "[CV] END .............C=20, coef0=1, gamma=0.05, kernel=poly; total time=   1.5s\n",
      "[CV] END .............C=20, coef0=1, gamma=0.05, kernel=poly; total time=   1.8s\n",
      "[CV] END .............C=20, coef0=1, gamma=0.05, kernel=poly; total time=   1.3s\n",
      "[CV] END .............C=20, coef0=1, gamma=0.05, kernel=poly; total time=   1.1s\n",
      "[CV] END ..............C=20, coef0=1, gamma=0.01, kernel=rbf; total time=   2.9s\n",
      "[CV] END ..............C=20, coef0=1, gamma=0.01, kernel=rbf; total time=   2.6s\n",
      "[CV] END ..............C=20, coef0=1, gamma=0.01, kernel=rbf; total time=   2.6s\n",
      "[CV] END ..............C=20, coef0=1, gamma=0.01, kernel=rbf; total time=   2.1s\n",
      "[CV] END ..............C=20, coef0=1, gamma=0.01, kernel=rbf; total time=   2.0s\n",
      "[CV] END .............C=20, coef0=1, gamma=0.01, kernel=poly; total time=   2.5s\n",
      "[CV] END .............C=20, coef0=1, gamma=0.01, kernel=poly; total time=   2.7s\n",
      "[CV] END .............C=20, coef0=1, gamma=0.01, kernel=poly; total time=   2.2s\n",
      "[CV] END .............C=20, coef0=1, gamma=0.01, kernel=poly; total time=   2.8s\n",
      "[CV] END .............C=20, coef0=1, gamma=0.01, kernel=poly; total time=   2.1s\n",
      "[CV] END .............C=20, coef0=1, gamma=0.001, kernel=rbf; total time=   1.9s\n",
      "[CV] END .............C=20, coef0=1, gamma=0.001, kernel=rbf; total time=   2.1s\n",
      "[CV] END .............C=20, coef0=1, gamma=0.001, kernel=rbf; total time=   2.1s\n",
      "[CV] END .............C=20, coef0=1, gamma=0.001, kernel=rbf; total time=   1.9s\n",
      "[CV] END .............C=20, coef0=1, gamma=0.001, kernel=rbf; total time=   1.8s\n",
      "[CV] END ............C=20, coef0=1, gamma=0.001, kernel=poly; total time=   1.3s\n",
      "[CV] END ............C=20, coef0=1, gamma=0.001, kernel=poly; total time=   1.3s\n",
      "[CV] END ............C=20, coef0=1, gamma=0.001, kernel=poly; total time=   1.3s\n",
      "[CV] END ............C=20, coef0=1, gamma=0.001, kernel=poly; total time=   1.2s\n",
      "[CV] END ............C=20, coef0=1, gamma=0.001, kernel=poly; total time=   1.3s\n",
      "[CV] END .............C=20, coef0=1, gamma=0.002, kernel=rbf; total time=   2.5s\n",
      "[CV] END .............C=20, coef0=1, gamma=0.002, kernel=rbf; total time=   3.1s\n",
      "[CV] END .............C=20, coef0=1, gamma=0.002, kernel=rbf; total time=   3.4s\n",
      "[CV] END .............C=20, coef0=1, gamma=0.002, kernel=rbf; total time=   2.0s\n",
      "[CV] END .............C=20, coef0=1, gamma=0.002, kernel=rbf; total time=   2.1s\n",
      "[CV] END ............C=20, coef0=1, gamma=0.002, kernel=poly; total time=   1.6s\n",
      "[CV] END ............C=20, coef0=1, gamma=0.002, kernel=poly; total time=   1.6s\n",
      "[CV] END ............C=20, coef0=1, gamma=0.002, kernel=poly; total time=   1.6s\n",
      "[CV] END ............C=20, coef0=1, gamma=0.002, kernel=poly; total time=   2.6s\n",
      "[CV] END ............C=20, coef0=1, gamma=0.002, kernel=poly; total time=   2.4s\n",
      "[CV] END .............C=20, coef0=1, gamma=0.005, kernel=rbf; total time=   3.6s\n",
      "[CV] END .............C=20, coef0=1, gamma=0.005, kernel=rbf; total time=   3.2s\n",
      "[CV] END .............C=20, coef0=1, gamma=0.005, kernel=rbf; total time=   4.4s\n",
      "[CV] END .............C=20, coef0=1, gamma=0.005, kernel=rbf; total time=   3.6s\n",
      "[CV] END .............C=20, coef0=1, gamma=0.005, kernel=rbf; total time=   2.0s\n",
      "[CV] END ............C=20, coef0=1, gamma=0.005, kernel=poly; total time=   2.3s\n",
      "[CV] END ............C=20, coef0=1, gamma=0.005, kernel=poly; total time=   2.1s\n",
      "[CV] END ............C=20, coef0=1, gamma=0.005, kernel=poly; total time=   2.8s\n",
      "[CV] END ............C=20, coef0=1, gamma=0.005, kernel=poly; total time=   5.6s\n",
      "[CV] END ............C=20, coef0=1, gamma=0.005, kernel=poly; total time=   5.0s\n",
      "[CV] END ...............C=30, coef0=0, gamma=0.1, kernel=rbf; total time=   5.8s\n",
      "[CV] END ...............C=30, coef0=0, gamma=0.1, kernel=rbf; total time=   3.6s\n",
      "[CV] END ...............C=30, coef0=0, gamma=0.1, kernel=rbf; total time=   4.2s\n",
      "[CV] END ...............C=30, coef0=0, gamma=0.1, kernel=rbf; total time=   2.7s\n",
      "[CV] END ...............C=30, coef0=0, gamma=0.1, kernel=rbf; total time=   2.7s\n",
      "[CV] END ..............C=30, coef0=0, gamma=0.1, kernel=poly; total time=   2.0s\n",
      "[CV] END ..............C=30, coef0=0, gamma=0.1, kernel=poly; total time=   2.3s\n",
      "[CV] END ..............C=30, coef0=0, gamma=0.1, kernel=poly; total time=   2.7s\n",
      "[CV] END ..............C=30, coef0=0, gamma=0.1, kernel=poly; total time=   2.4s\n",
      "[CV] END ..............C=30, coef0=0, gamma=0.1, kernel=poly; total time=   3.6s\n",
      "[CV] END ..............C=30, coef0=0, gamma=0.05, kernel=rbf; total time=   3.0s\n",
      "[CV] END ..............C=30, coef0=0, gamma=0.05, kernel=rbf; total time=   2.9s\n",
      "[CV] END ..............C=30, coef0=0, gamma=0.05, kernel=rbf; total time=   2.7s\n",
      "[CV] END ..............C=30, coef0=0, gamma=0.05, kernel=rbf; total time=   2.5s\n",
      "[CV] END ..............C=30, coef0=0, gamma=0.05, kernel=rbf; total time=   2.6s\n",
      "[CV] END .............C=30, coef0=0, gamma=0.05, kernel=poly; total time=   2.0s\n",
      "[CV] END .............C=30, coef0=0, gamma=0.05, kernel=poly; total time=   2.2s\n",
      "[CV] END .............C=30, coef0=0, gamma=0.05, kernel=poly; total time=   2.5s\n",
      "[CV] END .............C=30, coef0=0, gamma=0.05, kernel=poly; total time=   2.3s\n",
      "[CV] END .............C=30, coef0=0, gamma=0.05, kernel=poly; total time=   2.5s\n",
      "[CV] END ..............C=30, coef0=0, gamma=0.01, kernel=rbf; total time=   2.6s\n",
      "[CV] END ..............C=30, coef0=0, gamma=0.01, kernel=rbf; total time=   2.5s\n",
      "[CV] END ..............C=30, coef0=0, gamma=0.01, kernel=rbf; total time=   2.4s\n",
      "[CV] END ..............C=30, coef0=0, gamma=0.01, kernel=rbf; total time=   2.4s\n",
      "[CV] END ..............C=30, coef0=0, gamma=0.01, kernel=rbf; total time=   2.7s\n",
      "[CV] END .............C=30, coef0=0, gamma=0.01, kernel=poly; total time=   1.9s\n",
      "[CV] END .............C=30, coef0=0, gamma=0.01, kernel=poly; total time=   2.1s\n",
      "[CV] END .............C=30, coef0=0, gamma=0.01, kernel=poly; total time=   2.3s\n",
      "[CV] END .............C=30, coef0=0, gamma=0.01, kernel=poly; total time=   2.2s\n",
      "[CV] END .............C=30, coef0=0, gamma=0.01, kernel=poly; total time=   1.7s\n",
      "[CV] END .............C=30, coef0=0, gamma=0.001, kernel=rbf; total time=   2.4s\n",
      "[CV] END .............C=30, coef0=0, gamma=0.001, kernel=rbf; total time=   2.1s\n",
      "[CV] END .............C=30, coef0=0, gamma=0.001, kernel=rbf; total time=   2.2s\n",
      "[CV] END .............C=30, coef0=0, gamma=0.001, kernel=rbf; total time=   2.2s\n",
      "[CV] END .............C=30, coef0=0, gamma=0.001, kernel=rbf; total time=   2.4s\n",
      "[CV] END ............C=30, coef0=0, gamma=0.001, kernel=poly; total time=   2.0s\n",
      "[CV] END ............C=30, coef0=0, gamma=0.001, kernel=poly; total time=   2.0s\n",
      "[CV] END ............C=30, coef0=0, gamma=0.001, kernel=poly; total time=   1.9s\n",
      "[CV] END ............C=30, coef0=0, gamma=0.001, kernel=poly; total time=   1.8s\n",
      "[CV] END ............C=30, coef0=0, gamma=0.001, kernel=poly; total time=   1.9s\n",
      "[CV] END .............C=30, coef0=0, gamma=0.002, kernel=rbf; total time=   2.4s\n",
      "[CV] END .............C=30, coef0=0, gamma=0.002, kernel=rbf; total time=   2.3s\n",
      "[CV] END .............C=30, coef0=0, gamma=0.002, kernel=rbf; total time=   2.4s\n",
      "[CV] END .............C=30, coef0=0, gamma=0.002, kernel=rbf; total time=   2.2s\n",
      "[CV] END .............C=30, coef0=0, gamma=0.002, kernel=rbf; total time=   2.3s\n",
      "[CV] END ............C=30, coef0=0, gamma=0.002, kernel=poly; total time=   1.9s\n",
      "[CV] END ............C=30, coef0=0, gamma=0.002, kernel=poly; total time=   1.8s\n"
     ]
    },
    {
     "name": "stdout",
     "output_type": "stream",
     "text": [
      "[CV] END ............C=30, coef0=0, gamma=0.002, kernel=poly; total time=   1.9s\n",
      "[CV] END ............C=30, coef0=0, gamma=0.002, kernel=poly; total time=   1.8s\n",
      "[CV] END ............C=30, coef0=0, gamma=0.002, kernel=poly; total time=   2.0s\n",
      "[CV] END .............C=30, coef0=0, gamma=0.005, kernel=rbf; total time=   2.5s\n",
      "[CV] END .............C=30, coef0=0, gamma=0.005, kernel=rbf; total time=   2.5s\n",
      "[CV] END .............C=30, coef0=0, gamma=0.005, kernel=rbf; total time=   2.5s\n",
      "[CV] END .............C=30, coef0=0, gamma=0.005, kernel=rbf; total time=   2.5s\n",
      "[CV] END .............C=30, coef0=0, gamma=0.005, kernel=rbf; total time=   2.5s\n",
      "[CV] END ............C=30, coef0=0, gamma=0.005, kernel=poly; total time=   1.9s\n",
      "[CV] END ............C=30, coef0=0, gamma=0.005, kernel=poly; total time=   1.9s\n",
      "[CV] END ............C=30, coef0=0, gamma=0.005, kernel=poly; total time=   1.9s\n",
      "[CV] END ............C=30, coef0=0, gamma=0.005, kernel=poly; total time=   1.8s\n",
      "[CV] END ............C=30, coef0=0, gamma=0.005, kernel=poly; total time=   1.8s\n",
      "[CV] END ...............C=30, coef0=1, gamma=0.1, kernel=rbf; total time=   2.5s\n",
      "[CV] END ...............C=30, coef0=1, gamma=0.1, kernel=rbf; total time=   2.6s\n",
      "[CV] END ...............C=30, coef0=1, gamma=0.1, kernel=rbf; total time=   2.6s\n",
      "[CV] END ...............C=30, coef0=1, gamma=0.1, kernel=rbf; total time=   2.5s\n",
      "[CV] END ...............C=30, coef0=1, gamma=0.1, kernel=rbf; total time=   2.7s\n",
      "[CV] END ..............C=30, coef0=1, gamma=0.1, kernel=poly; total time=   1.6s\n",
      "[CV] END ..............C=30, coef0=1, gamma=0.1, kernel=poly; total time=   1.5s\n",
      "[CV] END ..............C=30, coef0=1, gamma=0.1, kernel=poly; total time=   1.6s\n",
      "[CV] END ..............C=30, coef0=1, gamma=0.1, kernel=poly; total time=   1.6s\n",
      "[CV] END ..............C=30, coef0=1, gamma=0.1, kernel=poly; total time=   1.6s\n",
      "[CV] END ..............C=30, coef0=1, gamma=0.05, kernel=rbf; total time=   2.5s\n",
      "[CV] END ..............C=30, coef0=1, gamma=0.05, kernel=rbf; total time=   2.5s\n",
      "[CV] END ..............C=30, coef0=1, gamma=0.05, kernel=rbf; total time=   2.5s\n",
      "[CV] END ..............C=30, coef0=1, gamma=0.05, kernel=rbf; total time=   2.5s\n",
      "[CV] END ..............C=30, coef0=1, gamma=0.05, kernel=rbf; total time=   2.5s\n",
      "[CV] END .............C=30, coef0=1, gamma=0.05, kernel=poly; total time=   1.4s\n",
      "[CV] END .............C=30, coef0=1, gamma=0.05, kernel=poly; total time=   1.4s\n",
      "[CV] END .............C=30, coef0=1, gamma=0.05, kernel=poly; total time=   1.4s\n",
      "[CV] END .............C=30, coef0=1, gamma=0.05, kernel=poly; total time=   1.3s\n",
      "[CV] END .............C=30, coef0=1, gamma=0.05, kernel=poly; total time=   1.4s\n",
      "[CV] END ..............C=30, coef0=1, gamma=0.01, kernel=rbf; total time=   2.6s\n",
      "[CV] END ..............C=30, coef0=1, gamma=0.01, kernel=rbf; total time=   2.5s\n",
      "[CV] END ..............C=30, coef0=1, gamma=0.01, kernel=rbf; total time=   2.5s\n",
      "[CV] END ..............C=30, coef0=1, gamma=0.01, kernel=rbf; total time=   2.4s\n",
      "[CV] END ..............C=30, coef0=1, gamma=0.01, kernel=rbf; total time=   2.4s\n",
      "[CV] END .............C=30, coef0=1, gamma=0.01, kernel=poly; total time=   3.1s\n",
      "[CV] END .............C=30, coef0=1, gamma=0.01, kernel=poly; total time=   3.3s\n",
      "[CV] END .............C=30, coef0=1, gamma=0.01, kernel=poly; total time=   3.3s\n",
      "[CV] END .............C=30, coef0=1, gamma=0.01, kernel=poly; total time=   2.7s\n",
      "[CV] END .............C=30, coef0=1, gamma=0.01, kernel=poly; total time=   2.6s\n",
      "[CV] END .............C=30, coef0=1, gamma=0.001, kernel=rbf; total time=   2.4s\n",
      "[CV] END .............C=30, coef0=1, gamma=0.001, kernel=rbf; total time=   2.4s\n",
      "[CV] END .............C=30, coef0=1, gamma=0.001, kernel=rbf; total time=   4.0s\n",
      "[CV] END .............C=30, coef0=1, gamma=0.001, kernel=rbf; total time=   2.8s\n",
      "[CV] END .............C=30, coef0=1, gamma=0.001, kernel=rbf; total time=   2.2s\n",
      "[CV] END ............C=30, coef0=1, gamma=0.001, kernel=poly; total time=   2.2s\n",
      "[CV] END ............C=30, coef0=1, gamma=0.001, kernel=poly; total time=   1.7s\n",
      "[CV] END ............C=30, coef0=1, gamma=0.001, kernel=poly; total time=   1.7s\n",
      "[CV] END ............C=30, coef0=1, gamma=0.001, kernel=poly; total time=   1.6s\n",
      "[CV] END ............C=30, coef0=1, gamma=0.001, kernel=poly; total time=   1.8s\n",
      "[CV] END .............C=30, coef0=1, gamma=0.002, kernel=rbf; total time=   2.3s\n",
      "[CV] END .............C=30, coef0=1, gamma=0.002, kernel=rbf; total time=   2.8s\n",
      "[CV] END .............C=30, coef0=1, gamma=0.002, kernel=rbf; total time=   2.9s\n",
      "[CV] END .............C=30, coef0=1, gamma=0.002, kernel=rbf; total time=   2.6s\n",
      "[CV] END .............C=30, coef0=1, gamma=0.002, kernel=rbf; total time=   3.7s\n",
      "[CV] END ............C=30, coef0=1, gamma=0.002, kernel=poly; total time=   1.8s\n",
      "[CV] END ............C=30, coef0=1, gamma=0.002, kernel=poly; total time=   2.0s\n",
      "[CV] END ............C=30, coef0=1, gamma=0.002, kernel=poly; total time=   2.1s\n",
      "[CV] END ............C=30, coef0=1, gamma=0.002, kernel=poly; total time=   1.6s\n",
      "[CV] END ............C=30, coef0=1, gamma=0.002, kernel=poly; total time=   2.0s\n",
      "[CV] END .............C=30, coef0=1, gamma=0.005, kernel=rbf; total time=   2.3s\n",
      "[CV] END .............C=30, coef0=1, gamma=0.005, kernel=rbf; total time=   2.2s\n",
      "[CV] END .............C=30, coef0=1, gamma=0.005, kernel=rbf; total time=   2.4s\n",
      "[CV] END .............C=30, coef0=1, gamma=0.005, kernel=rbf; total time=   2.1s\n",
      "[CV] END .............C=30, coef0=1, gamma=0.005, kernel=rbf; total time=   2.3s\n",
      "[CV] END ............C=30, coef0=1, gamma=0.005, kernel=poly; total time=   2.6s\n",
      "[CV] END ............C=30, coef0=1, gamma=0.005, kernel=poly; total time=   2.7s\n",
      "[CV] END ............C=30, coef0=1, gamma=0.005, kernel=poly; total time=   2.4s\n",
      "[CV] END ............C=30, coef0=1, gamma=0.005, kernel=poly; total time=   2.4s\n",
      "[CV] END ............C=30, coef0=1, gamma=0.005, kernel=poly; total time=   2.2s\n",
      "[CV] END ...............C=50, coef0=0, gamma=0.1, kernel=rbf; total time=   2.2s\n",
      "[CV] END ...............C=50, coef0=0, gamma=0.1, kernel=rbf; total time=   2.1s\n",
      "[CV] END ...............C=50, coef0=0, gamma=0.1, kernel=rbf; total time=   2.2s\n",
      "[CV] END ...............C=50, coef0=0, gamma=0.1, kernel=rbf; total time=   2.5s\n",
      "[CV] END ...............C=50, coef0=0, gamma=0.1, kernel=rbf; total time=   2.3s\n",
      "[CV] END ..............C=50, coef0=0, gamma=0.1, kernel=poly; total time=   1.8s\n",
      "[CV] END ..............C=50, coef0=0, gamma=0.1, kernel=poly; total time=   2.0s\n",
      "[CV] END ..............C=50, coef0=0, gamma=0.1, kernel=poly; total time=   2.1s\n",
      "[CV] END ..............C=50, coef0=0, gamma=0.1, kernel=poly; total time=   1.9s\n",
      "[CV] END ..............C=50, coef0=0, gamma=0.1, kernel=poly; total time=   2.0s\n",
      "[CV] END ..............C=50, coef0=0, gamma=0.05, kernel=rbf; total time=   2.4s\n",
      "[CV] END ..............C=50, coef0=0, gamma=0.05, kernel=rbf; total time=   2.3s\n",
      "[CV] END ..............C=50, coef0=0, gamma=0.05, kernel=rbf; total time=   2.5s\n",
      "[CV] END ..............C=50, coef0=0, gamma=0.05, kernel=rbf; total time=   2.7s\n",
      "[CV] END ..............C=50, coef0=0, gamma=0.05, kernel=rbf; total time=   2.3s\n",
      "[CV] END .............C=50, coef0=0, gamma=0.05, kernel=poly; total time=   2.0s\n",
      "[CV] END .............C=50, coef0=0, gamma=0.05, kernel=poly; total time=   2.2s\n",
      "[CV] END .............C=50, coef0=0, gamma=0.05, kernel=poly; total time=   2.6s\n",
      "[CV] END .............C=50, coef0=0, gamma=0.05, kernel=poly; total time=   1.9s\n",
      "[CV] END .............C=50, coef0=0, gamma=0.05, kernel=poly; total time=   2.0s\n",
      "[CV] END ..............C=50, coef0=0, gamma=0.01, kernel=rbf; total time=   2.5s\n",
      "[CV] END ..............C=50, coef0=0, gamma=0.01, kernel=rbf; total time=   2.2s\n",
      "[CV] END ..............C=50, coef0=0, gamma=0.01, kernel=rbf; total time=   2.2s\n",
      "[CV] END ..............C=50, coef0=0, gamma=0.01, kernel=rbf; total time=   2.2s\n",
      "[CV] END ..............C=50, coef0=0, gamma=0.01, kernel=rbf; total time=   3.1s\n",
      "[CV] END .............C=50, coef0=0, gamma=0.01, kernel=poly; total time=   3.2s\n",
      "[CV] END .............C=50, coef0=0, gamma=0.01, kernel=poly; total time=   1.6s\n",
      "[CV] END .............C=50, coef0=0, gamma=0.01, kernel=poly; total time=   2.2s\n",
      "[CV] END .............C=50, coef0=0, gamma=0.01, kernel=poly; total time=   1.7s\n"
     ]
    },
    {
     "name": "stdout",
     "output_type": "stream",
     "text": [
      "[CV] END .............C=50, coef0=0, gamma=0.01, kernel=poly; total time=   1.8s\n",
      "[CV] END .............C=50, coef0=0, gamma=0.001, kernel=rbf; total time=   2.3s\n",
      "[CV] END .............C=50, coef0=0, gamma=0.001, kernel=rbf; total time=   2.1s\n",
      "[CV] END .............C=50, coef0=0, gamma=0.001, kernel=rbf; total time=   2.1s\n",
      "[CV] END .............C=50, coef0=0, gamma=0.001, kernel=rbf; total time=   2.3s\n",
      "[CV] END .............C=50, coef0=0, gamma=0.001, kernel=rbf; total time=   2.1s\n",
      "[CV] END ............C=50, coef0=0, gamma=0.001, kernel=poly; total time=   2.1s\n",
      "[CV] END ............C=50, coef0=0, gamma=0.001, kernel=poly; total time=   1.8s\n",
      "[CV] END ............C=50, coef0=0, gamma=0.001, kernel=poly; total time=   2.2s\n",
      "[CV] END ............C=50, coef0=0, gamma=0.001, kernel=poly; total time=   2.1s\n",
      "[CV] END ............C=50, coef0=0, gamma=0.001, kernel=poly; total time=   3.1s\n",
      "[CV] END .............C=50, coef0=0, gamma=0.002, kernel=rbf; total time=   4.0s\n",
      "[CV] END .............C=50, coef0=0, gamma=0.002, kernel=rbf; total time=   3.2s\n",
      "[CV] END .............C=50, coef0=0, gamma=0.002, kernel=rbf; total time=   3.6s\n",
      "[CV] END .............C=50, coef0=0, gamma=0.002, kernel=rbf; total time=   3.8s\n",
      "[CV] END .............C=50, coef0=0, gamma=0.002, kernel=rbf; total time=   2.3s\n",
      "[CV] END ............C=50, coef0=0, gamma=0.002, kernel=poly; total time=   1.8s\n",
      "[CV] END ............C=50, coef0=0, gamma=0.002, kernel=poly; total time=   1.7s\n",
      "[CV] END ............C=50, coef0=0, gamma=0.002, kernel=poly; total time=   1.7s\n",
      "[CV] END ............C=50, coef0=0, gamma=0.002, kernel=poly; total time=   2.5s\n",
      "[CV] END ............C=50, coef0=0, gamma=0.002, kernel=poly; total time=   2.3s\n",
      "[CV] END .............C=50, coef0=0, gamma=0.005, kernel=rbf; total time=   3.3s\n",
      "[CV] END .............C=50, coef0=0, gamma=0.005, kernel=rbf; total time=   2.8s\n",
      "[CV] END .............C=50, coef0=0, gamma=0.005, kernel=rbf; total time=   2.5s\n",
      "[CV] END .............C=50, coef0=0, gamma=0.005, kernel=rbf; total time=   2.4s\n",
      "[CV] END .............C=50, coef0=0, gamma=0.005, kernel=rbf; total time=   2.6s\n",
      "[CV] END ............C=50, coef0=0, gamma=0.005, kernel=poly; total time=   1.7s\n",
      "[CV] END ............C=50, coef0=0, gamma=0.005, kernel=poly; total time=   1.8s\n",
      "[CV] END ............C=50, coef0=0, gamma=0.005, kernel=poly; total time=   1.7s\n",
      "[CV] END ............C=50, coef0=0, gamma=0.005, kernel=poly; total time=   1.8s\n",
      "[CV] END ............C=50, coef0=0, gamma=0.005, kernel=poly; total time=   1.7s\n",
      "[CV] END ...............C=50, coef0=1, gamma=0.1, kernel=rbf; total time=   2.4s\n",
      "[CV] END ...............C=50, coef0=1, gamma=0.1, kernel=rbf; total time=   3.0s\n",
      "[CV] END ...............C=50, coef0=1, gamma=0.1, kernel=rbf; total time=   2.9s\n",
      "[CV] END ...............C=50, coef0=1, gamma=0.1, kernel=rbf; total time=   2.9s\n",
      "[CV] END ...............C=50, coef0=1, gamma=0.1, kernel=rbf; total time=   2.4s\n",
      "[CV] END ..............C=50, coef0=1, gamma=0.1, kernel=poly; total time=   1.3s\n",
      "[CV] END ..............C=50, coef0=1, gamma=0.1, kernel=poly; total time=   1.3s\n",
      "[CV] END ..............C=50, coef0=1, gamma=0.1, kernel=poly; total time=   1.3s\n",
      "[CV] END ..............C=50, coef0=1, gamma=0.1, kernel=poly; total time=   1.4s\n",
      "[CV] END ..............C=50, coef0=1, gamma=0.1, kernel=poly; total time=   1.3s\n",
      "[CV] END ..............C=50, coef0=1, gamma=0.05, kernel=rbf; total time=   2.3s\n",
      "[CV] END ..............C=50, coef0=1, gamma=0.05, kernel=rbf; total time=   2.5s\n",
      "[CV] END ..............C=50, coef0=1, gamma=0.05, kernel=rbf; total time=   2.9s\n",
      "[CV] END ..............C=50, coef0=1, gamma=0.05, kernel=rbf; total time=   3.0s\n",
      "[CV] END ..............C=50, coef0=1, gamma=0.05, kernel=rbf; total time=   2.5s\n",
      "[CV] END .............C=50, coef0=1, gamma=0.05, kernel=poly; total time=   1.5s\n",
      "[CV] END .............C=50, coef0=1, gamma=0.05, kernel=poly; total time=   2.3s\n",
      "[CV] END .............C=50, coef0=1, gamma=0.05, kernel=poly; total time=   1.4s\n",
      "[CV] END .............C=50, coef0=1, gamma=0.05, kernel=poly; total time=   1.1s\n",
      "[CV] END .............C=50, coef0=1, gamma=0.05, kernel=poly; total time=   1.2s\n",
      "[CV] END ..............C=50, coef0=1, gamma=0.01, kernel=rbf; total time=   2.5s\n",
      "[CV] END ..............C=50, coef0=1, gamma=0.01, kernel=rbf; total time=   2.4s\n",
      "[CV] END ..............C=50, coef0=1, gamma=0.01, kernel=rbf; total time=   2.7s\n",
      "[CV] END ..............C=50, coef0=1, gamma=0.01, kernel=rbf; total time=   3.2s\n",
      "[CV] END ..............C=50, coef0=1, gamma=0.01, kernel=rbf; total time=   2.9s\n",
      "[CV] END .............C=50, coef0=1, gamma=0.01, kernel=poly; total time=   2.7s\n",
      "[CV] END .............C=50, coef0=1, gamma=0.01, kernel=poly; total time=   2.7s\n",
      "[CV] END .............C=50, coef0=1, gamma=0.01, kernel=poly; total time=   2.5s\n",
      "[CV] END .............C=50, coef0=1, gamma=0.01, kernel=poly; total time=   2.5s\n",
      "[CV] END .............C=50, coef0=1, gamma=0.01, kernel=poly; total time=   2.5s\n",
      "[CV] END .............C=50, coef0=1, gamma=0.001, kernel=rbf; total time=   2.2s\n",
      "[CV] END .............C=50, coef0=1, gamma=0.001, kernel=rbf; total time=   2.3s\n",
      "[CV] END .............C=50, coef0=1, gamma=0.001, kernel=rbf; total time=   2.1s\n",
      "[CV] END .............C=50, coef0=1, gamma=0.001, kernel=rbf; total time=   2.1s\n",
      "[CV] END .............C=50, coef0=1, gamma=0.001, kernel=rbf; total time=   2.1s\n",
      "[CV] END ............C=50, coef0=1, gamma=0.001, kernel=poly; total time=   1.8s\n",
      "[CV] END ............C=50, coef0=1, gamma=0.001, kernel=poly; total time=   1.9s\n",
      "[CV] END ............C=50, coef0=1, gamma=0.001, kernel=poly; total time=   1.8s\n",
      "[CV] END ............C=50, coef0=1, gamma=0.001, kernel=poly; total time=   1.8s\n",
      "[CV] END ............C=50, coef0=1, gamma=0.001, kernel=poly; total time=   1.8s\n",
      "[CV] END .............C=50, coef0=1, gamma=0.002, kernel=rbf; total time=   2.4s\n",
      "[CV] END .............C=50, coef0=1, gamma=0.002, kernel=rbf; total time=   2.2s\n",
      "[CV] END .............C=50, coef0=1, gamma=0.002, kernel=rbf; total time=   2.4s\n",
      "[CV] END .............C=50, coef0=1, gamma=0.002, kernel=rbf; total time=   2.2s\n",
      "[CV] END .............C=50, coef0=1, gamma=0.002, kernel=rbf; total time=   2.4s\n",
      "[CV] END ............C=50, coef0=1, gamma=0.002, kernel=poly; total time=   2.5s\n",
      "[CV] END ............C=50, coef0=1, gamma=0.002, kernel=poly; total time=   2.5s\n",
      "[CV] END ............C=50, coef0=1, gamma=0.002, kernel=poly; total time=   2.1s\n",
      "[CV] END ............C=50, coef0=1, gamma=0.002, kernel=poly; total time=   2.7s\n",
      "[CV] END ............C=50, coef0=1, gamma=0.002, kernel=poly; total time=   2.5s\n",
      "[CV] END .............C=50, coef0=1, gamma=0.005, kernel=rbf; total time=   3.0s\n",
      "[CV] END .............C=50, coef0=1, gamma=0.005, kernel=rbf; total time=   4.2s\n",
      "[CV] END .............C=50, coef0=1, gamma=0.005, kernel=rbf; total time=   2.8s\n",
      "[CV] END .............C=50, coef0=1, gamma=0.005, kernel=rbf; total time=   2.8s\n",
      "[CV] END .............C=50, coef0=1, gamma=0.005, kernel=rbf; total time=   2.8s\n",
      "[CV] END ............C=50, coef0=1, gamma=0.005, kernel=poly; total time=   3.0s\n",
      "[CV] END ............C=50, coef0=1, gamma=0.005, kernel=poly; total time=   3.1s\n",
      "[CV] END ............C=50, coef0=1, gamma=0.005, kernel=poly; total time=   3.2s\n",
      "[CV] END ............C=50, coef0=1, gamma=0.005, kernel=poly; total time=   3.7s\n",
      "[CV] END ............C=50, coef0=1, gamma=0.005, kernel=poly; total time=   3.3s\n",
      "[CV] END ..............C=100, coef0=0, gamma=0.1, kernel=rbf; total time=   2.5s\n",
      "[CV] END ..............C=100, coef0=0, gamma=0.1, kernel=rbf; total time=   2.3s\n",
      "[CV] END ..............C=100, coef0=0, gamma=0.1, kernel=rbf; total time=   2.2s\n",
      "[CV] END ..............C=100, coef0=0, gamma=0.1, kernel=rbf; total time=   2.4s\n",
      "[CV] END ..............C=100, coef0=0, gamma=0.1, kernel=rbf; total time=   2.6s\n",
      "[CV] END .............C=100, coef0=0, gamma=0.1, kernel=poly; total time=   2.3s\n",
      "[CV] END .............C=100, coef0=0, gamma=0.1, kernel=poly; total time=   2.6s\n",
      "[CV] END .............C=100, coef0=0, gamma=0.1, kernel=poly; total time=   2.4s\n",
      "[CV] END .............C=100, coef0=0, gamma=0.1, kernel=poly; total time=   2.4s\n",
      "[CV] END .............C=100, coef0=0, gamma=0.1, kernel=poly; total time=   3.1s\n",
      "[CV] END .............C=100, coef0=0, gamma=0.05, kernel=rbf; total time=   3.4s\n"
     ]
    },
    {
     "name": "stdout",
     "output_type": "stream",
     "text": [
      "[CV] END .............C=100, coef0=0, gamma=0.05, kernel=rbf; total time=   3.0s\n",
      "[CV] END .............C=100, coef0=0, gamma=0.05, kernel=rbf; total time=   3.3s\n",
      "[CV] END .............C=100, coef0=0, gamma=0.05, kernel=rbf; total time=   2.9s\n",
      "[CV] END .............C=100, coef0=0, gamma=0.05, kernel=rbf; total time=   3.0s\n",
      "[CV] END ............C=100, coef0=0, gamma=0.05, kernel=poly; total time=   3.0s\n",
      "[CV] END ............C=100, coef0=0, gamma=0.05, kernel=poly; total time=   2.4s\n",
      "[CV] END ............C=100, coef0=0, gamma=0.05, kernel=poly; total time=   2.2s\n",
      "[CV] END ............C=100, coef0=0, gamma=0.05, kernel=poly; total time=   2.1s\n",
      "[CV] END ............C=100, coef0=0, gamma=0.05, kernel=poly; total time=   3.5s\n",
      "[CV] END .............C=100, coef0=0, gamma=0.01, kernel=rbf; total time=   4.1s\n",
      "[CV] END .............C=100, coef0=0, gamma=0.01, kernel=rbf; total time=   3.4s\n",
      "[CV] END .............C=100, coef0=0, gamma=0.01, kernel=rbf; total time=   2.9s\n",
      "[CV] END .............C=100, coef0=0, gamma=0.01, kernel=rbf; total time=   2.8s\n",
      "[CV] END .............C=100, coef0=0, gamma=0.01, kernel=rbf; total time=   3.1s\n",
      "[CV] END ............C=100, coef0=0, gamma=0.01, kernel=poly; total time=   3.0s\n",
      "[CV] END ............C=100, coef0=0, gamma=0.01, kernel=poly; total time=   2.6s\n",
      "[CV] END ............C=100, coef0=0, gamma=0.01, kernel=poly; total time=   2.7s\n",
      "[CV] END ............C=100, coef0=0, gamma=0.01, kernel=poly; total time=   1.9s\n",
      "[CV] END ............C=100, coef0=0, gamma=0.01, kernel=poly; total time=   2.4s\n",
      "[CV] END ............C=100, coef0=0, gamma=0.001, kernel=rbf; total time=   4.0s\n",
      "[CV] END ............C=100, coef0=0, gamma=0.001, kernel=rbf; total time=   4.0s\n",
      "[CV] END ............C=100, coef0=0, gamma=0.001, kernel=rbf; total time=   3.1s\n",
      "[CV] END ............C=100, coef0=0, gamma=0.001, kernel=rbf; total time=   3.0s\n",
      "[CV] END ............C=100, coef0=0, gamma=0.001, kernel=rbf; total time=   2.7s\n",
      "[CV] END ...........C=100, coef0=0, gamma=0.001, kernel=poly; total time=   3.4s\n",
      "[CV] END ...........C=100, coef0=0, gamma=0.001, kernel=poly; total time=   2.3s\n",
      "[CV] END ...........C=100, coef0=0, gamma=0.001, kernel=poly; total time=   2.2s\n",
      "[CV] END ...........C=100, coef0=0, gamma=0.001, kernel=poly; total time=   2.0s\n",
      "[CV] END ...........C=100, coef0=0, gamma=0.001, kernel=poly; total time=   2.1s\n",
      "[CV] END ............C=100, coef0=0, gamma=0.002, kernel=rbf; total time=   3.0s\n",
      "[CV] END ............C=100, coef0=0, gamma=0.002, kernel=rbf; total time=   3.0s\n",
      "[CV] END ............C=100, coef0=0, gamma=0.002, kernel=rbf; total time=   2.8s\n",
      "[CV] END ............C=100, coef0=0, gamma=0.002, kernel=rbf; total time=   3.3s\n",
      "[CV] END ............C=100, coef0=0, gamma=0.002, kernel=rbf; total time=   3.4s\n",
      "[CV] END ...........C=100, coef0=0, gamma=0.002, kernel=poly; total time=   2.2s\n",
      "[CV] END ...........C=100, coef0=0, gamma=0.002, kernel=poly; total time=   2.6s\n",
      "[CV] END ...........C=100, coef0=0, gamma=0.002, kernel=poly; total time=   1.8s\n",
      "[CV] END ...........C=100, coef0=0, gamma=0.002, kernel=poly; total time=   1.9s\n",
      "[CV] END ...........C=100, coef0=0, gamma=0.002, kernel=poly; total time=   2.0s\n",
      "[CV] END ............C=100, coef0=0, gamma=0.005, kernel=rbf; total time=   3.3s\n",
      "[CV] END ............C=100, coef0=0, gamma=0.005, kernel=rbf; total time=   3.0s\n",
      "[CV] END ............C=100, coef0=0, gamma=0.005, kernel=rbf; total time=   3.3s\n",
      "[CV] END ............C=100, coef0=0, gamma=0.005, kernel=rbf; total time=   3.0s\n",
      "[CV] END ............C=100, coef0=0, gamma=0.005, kernel=rbf; total time=   4.2s\n",
      "[CV] END ...........C=100, coef0=0, gamma=0.005, kernel=poly; total time=   3.2s\n",
      "[CV] END ...........C=100, coef0=0, gamma=0.005, kernel=poly; total time=   2.0s\n",
      "[CV] END ...........C=100, coef0=0, gamma=0.005, kernel=poly; total time=   1.6s\n",
      "[CV] END ...........C=100, coef0=0, gamma=0.005, kernel=poly; total time=   1.5s\n",
      "[CV] END ...........C=100, coef0=0, gamma=0.005, kernel=poly; total time=   1.5s\n",
      "[CV] END ..............C=100, coef0=1, gamma=0.1, kernel=rbf; total time=   2.4s\n",
      "[CV] END ..............C=100, coef0=1, gamma=0.1, kernel=rbf; total time=   3.4s\n",
      "[CV] END ..............C=100, coef0=1, gamma=0.1, kernel=rbf; total time=   2.5s\n",
      "[CV] END ..............C=100, coef0=1, gamma=0.1, kernel=rbf; total time=   2.8s\n",
      "[CV] END ..............C=100, coef0=1, gamma=0.1, kernel=rbf; total time=   3.5s\n",
      "[CV] END .............C=100, coef0=1, gamma=0.1, kernel=poly; total time=   1.7s\n",
      "[CV] END .............C=100, coef0=1, gamma=0.1, kernel=poly; total time=   2.5s\n",
      "[CV] END .............C=100, coef0=1, gamma=0.1, kernel=poly; total time=   1.3s\n",
      "[CV] END .............C=100, coef0=1, gamma=0.1, kernel=poly; total time=   1.3s\n",
      "[CV] END .............C=100, coef0=1, gamma=0.1, kernel=poly; total time=   1.5s\n",
      "[CV] END .............C=100, coef0=1, gamma=0.05, kernel=rbf; total time=   2.3s\n",
      "[CV] END .............C=100, coef0=1, gamma=0.05, kernel=rbf; total time=   2.2s\n",
      "[CV] END .............C=100, coef0=1, gamma=0.05, kernel=rbf; total time=   2.3s\n",
      "[CV] END .............C=100, coef0=1, gamma=0.05, kernel=rbf; total time=   2.4s\n",
      "[CV] END .............C=100, coef0=1, gamma=0.05, kernel=rbf; total time=   3.0s\n",
      "[CV] END ............C=100, coef0=1, gamma=0.05, kernel=poly; total time=   1.2s\n",
      "[CV] END ............C=100, coef0=1, gamma=0.05, kernel=poly; total time=   1.8s\n",
      "[CV] END ............C=100, coef0=1, gamma=0.05, kernel=poly; total time=   1.6s\n",
      "[CV] END ............C=100, coef0=1, gamma=0.05, kernel=poly; total time=   1.6s\n",
      "[CV] END ............C=100, coef0=1, gamma=0.05, kernel=poly; total time=   1.3s\n",
      "[CV] END .............C=100, coef0=1, gamma=0.01, kernel=rbf; total time=   2.4s\n",
      "[CV] END .............C=100, coef0=1, gamma=0.01, kernel=rbf; total time=   2.5s\n",
      "[CV] END .............C=100, coef0=1, gamma=0.01, kernel=rbf; total time=   2.3s\n",
      "[CV] END .............C=100, coef0=1, gamma=0.01, kernel=rbf; total time=   2.5s\n",
      "[CV] END .............C=100, coef0=1, gamma=0.01, kernel=rbf; total time=   3.3s\n",
      "[CV] END ............C=100, coef0=1, gamma=0.01, kernel=poly; total time=   4.5s\n",
      "[CV] END ............C=100, coef0=1, gamma=0.01, kernel=poly; total time=   2.7s\n",
      "[CV] END ............C=100, coef0=1, gamma=0.01, kernel=poly; total time=   3.0s\n",
      "[CV] END ............C=100, coef0=1, gamma=0.01, kernel=poly; total time=   2.7s\n",
      "[CV] END ............C=100, coef0=1, gamma=0.01, kernel=poly; total time=   2.6s\n",
      "[CV] END ............C=100, coef0=1, gamma=0.001, kernel=rbf; total time=   3.2s\n",
      "[CV] END ............C=100, coef0=1, gamma=0.001, kernel=rbf; total time=   2.8s\n",
      "[CV] END ............C=100, coef0=1, gamma=0.001, kernel=rbf; total time=   2.3s\n",
      "[CV] END ............C=100, coef0=1, gamma=0.001, kernel=rbf; total time=   2.3s\n",
      "[CV] END ............C=100, coef0=1, gamma=0.001, kernel=rbf; total time=   2.8s\n",
      "[CV] END ...........C=100, coef0=1, gamma=0.001, kernel=poly; total time=   3.2s\n",
      "[CV] END ...........C=100, coef0=1, gamma=0.001, kernel=poly; total time=   3.1s\n",
      "[CV] END ...........C=100, coef0=1, gamma=0.001, kernel=poly; total time=   3.3s\n",
      "[CV] END ...........C=100, coef0=1, gamma=0.001, kernel=poly; total time=   2.6s\n",
      "[CV] END ...........C=100, coef0=1, gamma=0.001, kernel=poly; total time=   2.8s\n",
      "[CV] END ............C=100, coef0=1, gamma=0.002, kernel=rbf; total time=   3.5s\n",
      "[CV] END ............C=100, coef0=1, gamma=0.002, kernel=rbf; total time=   2.7s\n",
      "[CV] END ............C=100, coef0=1, gamma=0.002, kernel=rbf; total time=   2.6s\n",
      "[CV] END ............C=100, coef0=1, gamma=0.002, kernel=rbf; total time=   2.7s\n",
      "[CV] END ............C=100, coef0=1, gamma=0.002, kernel=rbf; total time=   3.6s\n",
      "[CV] END ...........C=100, coef0=1, gamma=0.002, kernel=poly; total time=   4.6s\n",
      "[CV] END ...........C=100, coef0=1, gamma=0.002, kernel=poly; total time=   3.5s\n",
      "[CV] END ...........C=100, coef0=1, gamma=0.002, kernel=poly; total time=   3.7s\n",
      "[CV] END ...........C=100, coef0=1, gamma=0.002, kernel=poly; total time=   3.4s\n",
      "[CV] END ...........C=100, coef0=1, gamma=0.002, kernel=poly; total time=   2.9s\n",
      "[CV] END ............C=100, coef0=1, gamma=0.005, kernel=rbf; total time=   3.2s\n",
      "[CV] END ............C=100, coef0=1, gamma=0.005, kernel=rbf; total time=   3.1s\n",
      "[CV] END ............C=100, coef0=1, gamma=0.005, kernel=rbf; total time=   3.1s\n"
     ]
    },
    {
     "name": "stdout",
     "output_type": "stream",
     "text": [
      "[CV] END ............C=100, coef0=1, gamma=0.005, kernel=rbf; total time=   2.8s\n",
      "[CV] END ............C=100, coef0=1, gamma=0.005, kernel=rbf; total time=   2.7s\n",
      "[CV] END ...........C=100, coef0=1, gamma=0.005, kernel=poly; total time=   3.7s\n",
      "[CV] END ...........C=100, coef0=1, gamma=0.005, kernel=poly; total time=   3.9s\n",
      "[CV] END ...........C=100, coef0=1, gamma=0.005, kernel=poly; total time=   5.5s\n",
      "[CV] END ...........C=100, coef0=1, gamma=0.005, kernel=poly; total time=   3.7s\n",
      "[CV] END ...........C=100, coef0=1, gamma=0.005, kernel=poly; total time=   4.7s\n"
     ]
    },
    {
     "data": {
      "text/plain": [
       "GridSearchCV(cv=5, estimator=SVC(),\n",
       "             param_grid={'C': [1, 10, 20, 30, 50, 100], 'coef0': [0, 1],\n",
       "                         'gamma': [0.1, 0.05, 0.01, 0.001, 0.002, 0.005],\n",
       "                         'kernel': ['rbf', 'poly']},\n",
       "             scoring='accuracy', verbose=2)"
      ]
     },
     "execution_count": 20,
     "metadata": {},
     "output_type": "execute_result"
    }
   ],
   "source": [
    "model_grid.fit(X,y)"
   ]
  },
  {
   "cell_type": "code",
   "execution_count": 56,
   "metadata": {},
   "outputs": [
    {
     "ename": "AttributeError",
     "evalue": "'GridSearchCV' object has no attribute 'best_params_'",
     "output_type": "error",
     "traceback": [
      "\u001b[1;31m---------------------------------------------------------------------------\u001b[0m",
      "\u001b[1;31mAttributeError\u001b[0m                            Traceback (most recent call last)",
      "\u001b[1;32m~\\AppData\\Local\\Temp/ipykernel_9644/2659049196.py\u001b[0m in \u001b[0;36m<module>\u001b[1;34m\u001b[0m\n\u001b[1;32m----> 1\u001b[1;33m \u001b[0mmodel_grid\u001b[0m\u001b[1;33m.\u001b[0m\u001b[0mbest_params_\u001b[0m\u001b[1;33m\u001b[0m\u001b[1;33m\u001b[0m\u001b[0m\n\u001b[0m",
      "\u001b[1;31mAttributeError\u001b[0m: 'GridSearchCV' object has no attribute 'best_params_'"
     ]
    }
   ],
   "source": [
    "model_grid.best_params_"
   ]
  },
  {
   "cell_type": "code",
   "execution_count": 57,
   "metadata": {},
   "outputs": [
    {
     "ename": "AttributeError",
     "evalue": "'GridSearchCV' object has no attribute 'best_score_'",
     "output_type": "error",
     "traceback": [
      "\u001b[1;31m---------------------------------------------------------------------------\u001b[0m",
      "\u001b[1;31mAttributeError\u001b[0m                            Traceback (most recent call last)",
      "\u001b[1;32m~\\AppData\\Local\\Temp/ipykernel_9644/1288662691.py\u001b[0m in \u001b[0;36m<module>\u001b[1;34m\u001b[0m\n\u001b[1;32m----> 1\u001b[1;33m \u001b[0mmodel_grid\u001b[0m\u001b[1;33m.\u001b[0m\u001b[0mbest_score_\u001b[0m\u001b[1;33m\u001b[0m\u001b[1;33m\u001b[0m\u001b[0m\n\u001b[0m",
      "\u001b[1;31mAttributeError\u001b[0m: 'GridSearchCV' object has no attribute 'best_score_'"
     ]
    }
   ],
   "source": [
    "model_grid.best_score_"
   ]
  },
  {
   "cell_type": "code",
   "execution_count": 69,
   "metadata": {},
   "outputs": [],
   "source": [
    "# WIth best parameter buil ML Model\n",
    "import sklearn\n",
    "model_best = sklearn.svm.SVC(C=30,kernel='rbf',gamma=0.002,probability=True)"
   ]
  },
  {
   "cell_type": "code",
   "execution_count": 70,
   "metadata": {},
   "outputs": [
    {
     "data": {
      "text/plain": [
       "0.8163452708907254"
      ]
     },
     "execution_count": 70,
     "metadata": {},
     "output_type": "execute_result"
    }
   ],
   "source": [
    "model_best.fit(x_train,y_train)\n",
    "model_best.score(x_test,y_test)"
   ]
  },
  {
   "cell_type": "code",
   "execution_count": 71,
   "metadata": {},
   "outputs": [],
   "source": [
    "y_pred = model_best.predict(x_test)\n",
    "y_prob = model_best.predict_proba(x_test) # proability"
   ]
  },
  {
   "cell_type": "code",
   "execution_count": 72,
   "metadata": {},
   "outputs": [
    {
     "data": {
      "image/png": "[encoded data removed]",
      "text/plain": [
       "<Figure size 432x288 with 1 Axes>"
      ]
     },
     "metadata": {
      "needs_background": "light"
     },
     "output_type": "display_data"
    }
   ],
   "source": [
    "cm = metrics.confusion_matrix(y_test,y_pred)\n",
    "cm = np.concatenate((cm,cm.sum(axis=0).reshape(1,-1)),axis=0)\n",
    "cm = np.concatenate((cm,cm.sum(axis=1).reshape(-1,1)),axis=1)\n",
    "plt.imshow(cm)\n",
    "for i in range(3):\n",
    "    for j in range(3):\n",
    "        plt.text(j,i,'%d'%cm[i,j])\n",
    "        \n",
    "plt.xticks([0,1])\n",
    "plt.yticks([0,1])\n",
    "plt.xlabel('Predicted Values')\n",
    "plt.ylabel('True Values')\n",
    "plt.show()"
   ]
  },
  {
   "cell_type": "code",
   "execution_count": 73,
   "metadata": {},
   "outputs": [
    {
     "data": {
      "text/html": [
       "<div>\n",
       "<style scoped>\n",
       "    .dataframe tbody tr th:only-of-type {\n",
       "        vertical-align: middle;\n",
       "    }\n",
       "\n",
       "    .dataframe tbody tr th {\n",
       "        vertical-align: top;\n",
       "    }\n",
       "\n",
       "    .dataframe thead th {\n",
       "        text-align: right;\n",
       "    }\n",
       "</style>\n",
       "<table border=\"1\" class=\"dataframe\">\n",
       "  <thead>\n",
       "    <tr style=\"text-align: right;\">\n",
       "      <th></th>\n",
       "      <th>precision</th>\n",
       "      <th>recall</th>\n",
       "      <th>f1-score</th>\n",
       "      <th>support</th>\n",
       "    </tr>\n",
       "  </thead>\n",
       "  <tbody>\n",
       "    <tr>\n",
       "      <th>male</th>\n",
       "      <td>0.801508</td>\n",
       "      <td>0.725000</td>\n",
       "      <td>0.761337</td>\n",
       "      <td>440.000000</td>\n",
       "    </tr>\n",
       "    <tr>\n",
       "      <th>female</th>\n",
       "      <td>0.824891</td>\n",
       "      <td>0.878274</td>\n",
       "      <td>0.850746</td>\n",
       "      <td>649.000000</td>\n",
       "    </tr>\n",
       "    <tr>\n",
       "      <th>accuracy</th>\n",
       "      <td>0.816345</td>\n",
       "      <td>0.816345</td>\n",
       "      <td>0.816345</td>\n",
       "      <td>0.816345</td>\n",
       "    </tr>\n",
       "    <tr>\n",
       "      <th>macro avg</th>\n",
       "      <td>0.813199</td>\n",
       "      <td>0.801637</td>\n",
       "      <td>0.806041</td>\n",
       "      <td>1089.000000</td>\n",
       "    </tr>\n",
       "    <tr>\n",
       "      <th>weighted avg</th>\n",
       "      <td>0.815443</td>\n",
       "      <td>0.816345</td>\n",
       "      <td>0.814621</td>\n",
       "      <td>1089.000000</td>\n",
       "    </tr>\n",
       "  </tbody>\n",
       "</table>\n",
       "</div>"
      ],
      "text/plain": [
       "              precision    recall  f1-score      support\n",
       "male           0.801508  0.725000  0.761337   440.000000\n",
       "female         0.824891  0.878274  0.850746   649.000000\n",
       "accuracy       0.816345  0.816345  0.816345     0.816345\n",
       "macro avg      0.813199  0.801637  0.806041  1089.000000\n",
       "weighted avg   0.815443  0.816345  0.814621  1089.000000"
      ]
     },
     "execution_count": 73,
     "metadata": {},
     "output_type": "execute_result"
    }
   ],
   "source": [
    "# classification report\n",
    "cr = metrics.classification_report(y_test,y_pred,target_names=['male','female'],output_dict=True)\n",
    "pd.DataFrame(cr).T"
   ]
  },
  {
   "cell_type": "code",
   "execution_count": 74,
   "metadata": {},
   "outputs": [
    {
     "data": {
      "text/plain": [
       "0.6126912092641132"
      ]
     },
     "execution_count": 74,
     "metadata": {},
     "output_type": "execute_result"
    }
   ],
   "source": [
    "# kappa\n",
    "metrics.cohen_kappa_score(y_test,y_pred)"
   ]
  },
  {
   "cell_type": "markdown",
   "metadata": {},
   "source": [
    "# ROC and AUC"
   ]
  },
  {
   "cell_type": "code",
   "execution_count": 75,
   "metadata": {},
   "outputs": [
    {
     "data": {
      "image/png": "[encoded data removed]",
      "text/plain": [
       "<Figure size 720x432 with 1 Axes>"
      ]
     },
     "metadata": {
      "needs_background": "light"
     },
     "output_type": "display_data"
    }
   ],
   "source": [
    "# roc for female\n",
    "fpr,tpr,thresh = metrics.roc_curve(y_test,y_prob[:,1])\n",
    "auc_s = metrics.auc(fpr,tpr)\n",
    "plt.figure(figsize=(10,6))\n",
    "plt.plot(fpr,tpr,'-.')\n",
    "plt.plot([0,1],[0,1],'b--')\n",
    "for i in range(0,len(thresh),20):\n",
    "    plt.plot(fpr[i],tpr[i],'^')\n",
    "    plt.text(fpr[i],tpr[i],\"%0.2f\"%thresh[i])\n",
    "    \n",
    "plt.legend(['AUC Score = %0.2f'%auc_s])\n",
    "\n",
    "plt.xlabel('False Positve Rate')\n",
    "plt.ylabel('True Positive Rate')\n",
    "plt.title('Receiver Operating Characterstics')\n",
    "plt.show()"
   ]
  },
  {
   "cell_type": "code",
   "execution_count": 76,
   "metadata": {},
   "outputs": [],
   "source": [
    "# save our machine learning model\n",
    "import pickle"
   ]
  },
  {
   "cell_type": "code",
   "execution_count": 77,
   "metadata": {},
   "outputs": [],
   "source": [
    "pickle.dump(model_best,open('model_svm.pickle','wb'))"
   ]
  },
  {
   "cell_type": "code",
   "execution_count": 78,
   "metadata": {},
   "outputs": [],
   "source": [
    "pickle.dump(mean,open('./model/mean_preprocess.pickle','wb'))"
   ]
  },
  {
   "cell_type": "code",
   "execution_count": null,
   "metadata": {},
   "outputs": [],
   "source": []
  }
 ],
 "metadata": {
  "kernelspec": {
   "display_name": "Python 3 (ipykernel)",
   "language": "python",
   "name": "python3"
  },
  "language_info": {
   "codemirror_mode": {
    "name": "ipython",
    "version": 3
   },
   "file_extension": ".py",
   "mimetype": "text/x-python",
   "name": "python",
   "nbconvert_exporter": "python",
   "pygments_lexer": "ipython3",
   "version": "3.9.6"
  }
 },
 "nbformat": 4,
 "nbformat_minor": 2
}
